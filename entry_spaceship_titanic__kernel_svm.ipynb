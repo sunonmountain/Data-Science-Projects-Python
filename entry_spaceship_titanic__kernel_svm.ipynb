{
  "nbformat": 4,
  "nbformat_minor": 0,
  "metadata": {
    "colab": {
      "provenance": [],
      "machine_shape": "hm",
      "include_colab_link": true
    },
    "kernelspec": {
      "name": "python3",
      "display_name": "Python 3"
    }
  },
  "cells": [
    {
      "cell_type": "markdown",
      "metadata": {
        "id": "view-in-github",
        "colab_type": "text"
      },
      "source": [
        "<a href=\"https://colab.research.google.com/github/sunonmountain/Data-Science-Projects-Python/blob/main/entry_spaceship_titanic__kernel_svm.ipynb\" target=\"_parent\"><img src=\"https://colab.research.google.com/assets/colab-badge.svg\" alt=\"Open In Colab\"/></a>"
      ]
    },
    {
      "cell_type": "markdown",
      "metadata": {
        "id": "0MRC0e0KhQ0S"
      },
      "source": [
        "# Kernel SVM"
      ]
    },
    {
      "cell_type": "markdown",
      "metadata": {
        "id": "LWd1UlMnhT2s"
      },
      "source": [
        "## Importing the libraries"
      ]
    },
    {
      "cell_type": "code",
      "metadata": {
        "id": "YvGPUQaHhXfL"
      },
      "source": [
        "import numpy as np\n",
        "import matplotlib.pyplot as plt\n",
        "import pandas as pd"
      ],
      "execution_count": null,
      "outputs": []
    },
    {
      "cell_type": "markdown",
      "metadata": {
        "id": "K1VMqkGvhc3-"
      },
      "source": [
        "## Importing the dataset"
      ]
    },
    {
      "cell_type": "code",
      "metadata": {
        "id": "M52QDmyzhh9s"
      },
      "source": [
        "trainset = pd.read_csv('train.csv')\n",
        "trainset = trainset.drop_duplicates(subset=None, keep='first', inplace=False, ignore_index=False)\n",
        "\n",
        "\n",
        "testset = pd.read_csv('test.csv')\n",
        "testset = testset.drop_duplicates(subset=None, keep='first', inplace=False, ignore_index=False)\n"
      ],
      "execution_count": null,
      "outputs": []
    },
    {
      "cell_type": "markdown",
      "source": [
        "Data Preprocessing"
      ],
      "metadata": {
        "id": "LZyCoUmWEj5E"
      }
    },
    {
      "cell_type": "code",
      "source": [
        "trainset.shape"
      ],
      "metadata": {
        "colab": {
          "base_uri": "https://localhost:8080/"
        },
        "id": "bCcBO10ADDWD",
        "outputId": "80b0ea13-5cd3-4da3-c0e4-0779c25ef498"
      },
      "execution_count": null,
      "outputs": [
        {
          "output_type": "execute_result",
          "data": {
            "text/plain": [
              "(8693, 14)"
            ]
          },
          "metadata": {},
          "execution_count": 3
        }
      ]
    },
    {
      "cell_type": "code",
      "source": [
        "testset.shape"
      ],
      "metadata": {
        "colab": {
          "base_uri": "https://localhost:8080/"
        },
        "id": "jj5hxwmiDlVy",
        "outputId": "0282ce26-ef31-4ce4-e6e0-9a88a89d8347"
      },
      "execution_count": null,
      "outputs": [
        {
          "output_type": "execute_result",
          "data": {
            "text/plain": [
              "(4277, 13)"
            ]
          },
          "metadata": {},
          "execution_count": 4
        }
      ]
    },
    {
      "cell_type": "code",
      "source": [
        "trainset.isnull().sum().sum()"
      ],
      "metadata": {
        "colab": {
          "base_uri": "https://localhost:8080/"
        },
        "id": "Z3mkTomBD49j",
        "outputId": "074d4555-0079-414b-f098-720b70ed031e"
      },
      "execution_count": null,
      "outputs": [
        {
          "output_type": "execute_result",
          "data": {
            "text/plain": [
              "2324"
            ]
          },
          "metadata": {},
          "execution_count": 5
        }
      ]
    },
    {
      "cell_type": "code",
      "source": [
        "testset.isnull().sum().sum()"
      ],
      "metadata": {
        "id": "wB731qU9mWZv",
        "colab": {
          "base_uri": "https://localhost:8080/"
        },
        "outputId": "054ba87e-ea5b-447e-b85b-3d8f85696df6"
      },
      "execution_count": null,
      "outputs": [
        {
          "output_type": "execute_result",
          "data": {
            "text/plain": [
              "1117"
            ]
          },
          "metadata": {},
          "execution_count": 6
        }
      ]
    },
    {
      "cell_type": "code",
      "source": [
        "trainset"
      ],
      "metadata": {
        "colab": {
          "base_uri": "https://localhost:8080/",
          "height": 661
        },
        "id": "ryn8w9tQEoxc",
        "outputId": "5f3381c0-947f-4ae9-ee02-d27c4ba525ec"
      },
      "execution_count": null,
      "outputs": [
        {
          "output_type": "execute_result",
          "data": {
            "text/plain": [
              "     PassengerId HomePlanet CryoSleep     Cabin    Destination   Age    VIP  \\\n",
              "0        0001_01     Europa     False     B/0/P    TRAPPIST-1e  39.0  False   \n",
              "1        0002_01      Earth     False     F/0/S    TRAPPIST-1e  24.0  False   \n",
              "2        0003_01     Europa     False     A/0/S    TRAPPIST-1e  58.0   True   \n",
              "3        0003_02     Europa     False     A/0/S    TRAPPIST-1e  33.0  False   \n",
              "4        0004_01      Earth     False     F/1/S    TRAPPIST-1e  16.0  False   \n",
              "...          ...        ...       ...       ...            ...   ...    ...   \n",
              "8688     9276_01     Europa     False    A/98/P    55 Cancri e  41.0   True   \n",
              "8689     9278_01      Earth      True  G/1499/S  PSO J318.5-22  18.0  False   \n",
              "8690     9279_01      Earth     False  G/1500/S    TRAPPIST-1e  26.0  False   \n",
              "8691     9280_01     Europa     False   E/608/S    55 Cancri e  32.0  False   \n",
              "8692     9280_02     Europa     False   E/608/S    TRAPPIST-1e  44.0  False   \n",
              "\n",
              "      RoomService  FoodCourt  ShoppingMall     Spa  VRDeck               Name  \\\n",
              "0             0.0        0.0           0.0     0.0     0.0    Maham Ofracculy   \n",
              "1           109.0        9.0          25.0   549.0    44.0       Juanna Vines   \n",
              "2            43.0     3576.0           0.0  6715.0    49.0      Altark Susent   \n",
              "3             0.0     1283.0         371.0  3329.0   193.0       Solam Susent   \n",
              "4           303.0       70.0         151.0   565.0     2.0  Willy Santantines   \n",
              "...           ...        ...           ...     ...     ...                ...   \n",
              "8688          0.0     6819.0           0.0  1643.0    74.0  Gravior Noxnuther   \n",
              "8689          0.0        0.0           0.0     0.0     0.0    Kurta Mondalley   \n",
              "8690          0.0        0.0        1872.0     1.0     0.0       Fayey Connon   \n",
              "8691          0.0     1049.0           0.0   353.0  3235.0   Celeon Hontichre   \n",
              "8692        126.0     4688.0           0.0     0.0    12.0   Propsh Hontichre   \n",
              "\n",
              "      Transported  \n",
              "0           False  \n",
              "1            True  \n",
              "2           False  \n",
              "3           False  \n",
              "4            True  \n",
              "...           ...  \n",
              "8688        False  \n",
              "8689        False  \n",
              "8690         True  \n",
              "8691        False  \n",
              "8692         True  \n",
              "\n",
              "[8693 rows x 14 columns]"
            ],
            "text/html": [
              "\n",
              "  <div id=\"df-8e770d07-1e8a-4dc5-81a4-4fab831c5773\">\n",
              "    <div class=\"colab-df-container\">\n",
              "      <div>\n",
              "<style scoped>\n",
              "    .dataframe tbody tr th:only-of-type {\n",
              "        vertical-align: middle;\n",
              "    }\n",
              "\n",
              "    .dataframe tbody tr th {\n",
              "        vertical-align: top;\n",
              "    }\n",
              "\n",
              "    .dataframe thead th {\n",
              "        text-align: right;\n",
              "    }\n",
              "</style>\n",
              "<table border=\"1\" class=\"dataframe\">\n",
              "  <thead>\n",
              "    <tr style=\"text-align: right;\">\n",
              "      <th></th>\n",
              "      <th>PassengerId</th>\n",
              "      <th>HomePlanet</th>\n",
              "      <th>CryoSleep</th>\n",
              "      <th>Cabin</th>\n",
              "      <th>Destination</th>\n",
              "      <th>Age</th>\n",
              "      <th>VIP</th>\n",
              "      <th>RoomService</th>\n",
              "      <th>FoodCourt</th>\n",
              "      <th>ShoppingMall</th>\n",
              "      <th>Spa</th>\n",
              "      <th>VRDeck</th>\n",
              "      <th>Name</th>\n",
              "      <th>Transported</th>\n",
              "    </tr>\n",
              "  </thead>\n",
              "  <tbody>\n",
              "    <tr>\n",
              "      <th>0</th>\n",
              "      <td>0001_01</td>\n",
              "      <td>Europa</td>\n",
              "      <td>False</td>\n",
              "      <td>B/0/P</td>\n",
              "      <td>TRAPPIST-1e</td>\n",
              "      <td>39.0</td>\n",
              "      <td>False</td>\n",
              "      <td>0.0</td>\n",
              "      <td>0.0</td>\n",
              "      <td>0.0</td>\n",
              "      <td>0.0</td>\n",
              "      <td>0.0</td>\n",
              "      <td>Maham Ofracculy</td>\n",
              "      <td>False</td>\n",
              "    </tr>\n",
              "    <tr>\n",
              "      <th>1</th>\n",
              "      <td>0002_01</td>\n",
              "      <td>Earth</td>\n",
              "      <td>False</td>\n",
              "      <td>F/0/S</td>\n",
              "      <td>TRAPPIST-1e</td>\n",
              "      <td>24.0</td>\n",
              "      <td>False</td>\n",
              "      <td>109.0</td>\n",
              "      <td>9.0</td>\n",
              "      <td>25.0</td>\n",
              "      <td>549.0</td>\n",
              "      <td>44.0</td>\n",
              "      <td>Juanna Vines</td>\n",
              "      <td>True</td>\n",
              "    </tr>\n",
              "    <tr>\n",
              "      <th>2</th>\n",
              "      <td>0003_01</td>\n",
              "      <td>Europa</td>\n",
              "      <td>False</td>\n",
              "      <td>A/0/S</td>\n",
              "      <td>TRAPPIST-1e</td>\n",
              "      <td>58.0</td>\n",
              "      <td>True</td>\n",
              "      <td>43.0</td>\n",
              "      <td>3576.0</td>\n",
              "      <td>0.0</td>\n",
              "      <td>6715.0</td>\n",
              "      <td>49.0</td>\n",
              "      <td>Altark Susent</td>\n",
              "      <td>False</td>\n",
              "    </tr>\n",
              "    <tr>\n",
              "      <th>3</th>\n",
              "      <td>0003_02</td>\n",
              "      <td>Europa</td>\n",
              "      <td>False</td>\n",
              "      <td>A/0/S</td>\n",
              "      <td>TRAPPIST-1e</td>\n",
              "      <td>33.0</td>\n",
              "      <td>False</td>\n",
              "      <td>0.0</td>\n",
              "      <td>1283.0</td>\n",
              "      <td>371.0</td>\n",
              "      <td>3329.0</td>\n",
              "      <td>193.0</td>\n",
              "      <td>Solam Susent</td>\n",
              "      <td>False</td>\n",
              "    </tr>\n",
              "    <tr>\n",
              "      <th>4</th>\n",
              "      <td>0004_01</td>\n",
              "      <td>Earth</td>\n",
              "      <td>False</td>\n",
              "      <td>F/1/S</td>\n",
              "      <td>TRAPPIST-1e</td>\n",
              "      <td>16.0</td>\n",
              "      <td>False</td>\n",
              "      <td>303.0</td>\n",
              "      <td>70.0</td>\n",
              "      <td>151.0</td>\n",
              "      <td>565.0</td>\n",
              "      <td>2.0</td>\n",
              "      <td>Willy Santantines</td>\n",
              "      <td>True</td>\n",
              "    </tr>\n",
              "    <tr>\n",
              "      <th>...</th>\n",
              "      <td>...</td>\n",
              "      <td>...</td>\n",
              "      <td>...</td>\n",
              "      <td>...</td>\n",
              "      <td>...</td>\n",
              "      <td>...</td>\n",
              "      <td>...</td>\n",
              "      <td>...</td>\n",
              "      <td>...</td>\n",
              "      <td>...</td>\n",
              "      <td>...</td>\n",
              "      <td>...</td>\n",
              "      <td>...</td>\n",
              "      <td>...</td>\n",
              "    </tr>\n",
              "    <tr>\n",
              "      <th>8688</th>\n",
              "      <td>9276_01</td>\n",
              "      <td>Europa</td>\n",
              "      <td>False</td>\n",
              "      <td>A/98/P</td>\n",
              "      <td>55 Cancri e</td>\n",
              "      <td>41.0</td>\n",
              "      <td>True</td>\n",
              "      <td>0.0</td>\n",
              "      <td>6819.0</td>\n",
              "      <td>0.0</td>\n",
              "      <td>1643.0</td>\n",
              "      <td>74.0</td>\n",
              "      <td>Gravior Noxnuther</td>\n",
              "      <td>False</td>\n",
              "    </tr>\n",
              "    <tr>\n",
              "      <th>8689</th>\n",
              "      <td>9278_01</td>\n",
              "      <td>Earth</td>\n",
              "      <td>True</td>\n",
              "      <td>G/1499/S</td>\n",
              "      <td>PSO J318.5-22</td>\n",
              "      <td>18.0</td>\n",
              "      <td>False</td>\n",
              "      <td>0.0</td>\n",
              "      <td>0.0</td>\n",
              "      <td>0.0</td>\n",
              "      <td>0.0</td>\n",
              "      <td>0.0</td>\n",
              "      <td>Kurta Mondalley</td>\n",
              "      <td>False</td>\n",
              "    </tr>\n",
              "    <tr>\n",
              "      <th>8690</th>\n",
              "      <td>9279_01</td>\n",
              "      <td>Earth</td>\n",
              "      <td>False</td>\n",
              "      <td>G/1500/S</td>\n",
              "      <td>TRAPPIST-1e</td>\n",
              "      <td>26.0</td>\n",
              "      <td>False</td>\n",
              "      <td>0.0</td>\n",
              "      <td>0.0</td>\n",
              "      <td>1872.0</td>\n",
              "      <td>1.0</td>\n",
              "      <td>0.0</td>\n",
              "      <td>Fayey Connon</td>\n",
              "      <td>True</td>\n",
              "    </tr>\n",
              "    <tr>\n",
              "      <th>8691</th>\n",
              "      <td>9280_01</td>\n",
              "      <td>Europa</td>\n",
              "      <td>False</td>\n",
              "      <td>E/608/S</td>\n",
              "      <td>55 Cancri e</td>\n",
              "      <td>32.0</td>\n",
              "      <td>False</td>\n",
              "      <td>0.0</td>\n",
              "      <td>1049.0</td>\n",
              "      <td>0.0</td>\n",
              "      <td>353.0</td>\n",
              "      <td>3235.0</td>\n",
              "      <td>Celeon Hontichre</td>\n",
              "      <td>False</td>\n",
              "    </tr>\n",
              "    <tr>\n",
              "      <th>8692</th>\n",
              "      <td>9280_02</td>\n",
              "      <td>Europa</td>\n",
              "      <td>False</td>\n",
              "      <td>E/608/S</td>\n",
              "      <td>TRAPPIST-1e</td>\n",
              "      <td>44.0</td>\n",
              "      <td>False</td>\n",
              "      <td>126.0</td>\n",
              "      <td>4688.0</td>\n",
              "      <td>0.0</td>\n",
              "      <td>0.0</td>\n",
              "      <td>12.0</td>\n",
              "      <td>Propsh Hontichre</td>\n",
              "      <td>True</td>\n",
              "    </tr>\n",
              "  </tbody>\n",
              "</table>\n",
              "<p>8693 rows × 14 columns</p>\n",
              "</div>\n",
              "      <button class=\"colab-df-convert\" onclick=\"convertToInteractive('df-8e770d07-1e8a-4dc5-81a4-4fab831c5773')\"\n",
              "              title=\"Convert this dataframe to an interactive table.\"\n",
              "              style=\"display:none;\">\n",
              "        \n",
              "  <svg xmlns=\"http://www.w3.org/2000/svg\" height=\"24px\"viewBox=\"0 0 24 24\"\n",
              "       width=\"24px\">\n",
              "    <path d=\"M0 0h24v24H0V0z\" fill=\"none\"/>\n",
              "    <path d=\"M18.56 5.44l.94 2.06.94-2.06 2.06-.94-2.06-.94-.94-2.06-.94 2.06-2.06.94zm-11 1L8.5 8.5l.94-2.06 2.06-.94-2.06-.94L8.5 2.5l-.94 2.06-2.06.94zm10 10l.94 2.06.94-2.06 2.06-.94-2.06-.94-.94-2.06-.94 2.06-2.06.94z\"/><path d=\"M17.41 7.96l-1.37-1.37c-.4-.4-.92-.59-1.43-.59-.52 0-1.04.2-1.43.59L10.3 9.45l-7.72 7.72c-.78.78-.78 2.05 0 2.83L4 21.41c.39.39.9.59 1.41.59.51 0 1.02-.2 1.41-.59l7.78-7.78 2.81-2.81c.8-.78.8-2.07 0-2.86zM5.41 20L4 18.59l7.72-7.72 1.47 1.35L5.41 20z\"/>\n",
              "  </svg>\n",
              "      </button>\n",
              "      \n",
              "  <style>\n",
              "    .colab-df-container {\n",
              "      display:flex;\n",
              "      flex-wrap:wrap;\n",
              "      gap: 12px;\n",
              "    }\n",
              "\n",
              "    .colab-df-convert {\n",
              "      background-color: #E8F0FE;\n",
              "      border: none;\n",
              "      border-radius: 50%;\n",
              "      cursor: pointer;\n",
              "      display: none;\n",
              "      fill: #1967D2;\n",
              "      height: 32px;\n",
              "      padding: 0 0 0 0;\n",
              "      width: 32px;\n",
              "    }\n",
              "\n",
              "    .colab-df-convert:hover {\n",
              "      background-color: #E2EBFA;\n",
              "      box-shadow: 0px 1px 2px rgba(60, 64, 67, 0.3), 0px 1px 3px 1px rgba(60, 64, 67, 0.15);\n",
              "      fill: #174EA6;\n",
              "    }\n",
              "\n",
              "    [theme=dark] .colab-df-convert {\n",
              "      background-color: #3B4455;\n",
              "      fill: #D2E3FC;\n",
              "    }\n",
              "\n",
              "    [theme=dark] .colab-df-convert:hover {\n",
              "      background-color: #434B5C;\n",
              "      box-shadow: 0px 1px 3px 1px rgba(0, 0, 0, 0.15);\n",
              "      filter: drop-shadow(0px 1px 2px rgba(0, 0, 0, 0.3));\n",
              "      fill: #FFFFFF;\n",
              "    }\n",
              "  </style>\n",
              "\n",
              "      <script>\n",
              "        const buttonEl =\n",
              "          document.querySelector('#df-8e770d07-1e8a-4dc5-81a4-4fab831c5773 button.colab-df-convert');\n",
              "        buttonEl.style.display =\n",
              "          google.colab.kernel.accessAllowed ? 'block' : 'none';\n",
              "\n",
              "        async function convertToInteractive(key) {\n",
              "          const element = document.querySelector('#df-8e770d07-1e8a-4dc5-81a4-4fab831c5773');\n",
              "          const dataTable =\n",
              "            await google.colab.kernel.invokeFunction('convertToInteractive',\n",
              "                                                     [key], {});\n",
              "          if (!dataTable) return;\n",
              "\n",
              "          const docLinkHtml = 'Like what you see? Visit the ' +\n",
              "            '<a target=\"_blank\" href=https://colab.research.google.com/notebooks/data_table.ipynb>data table notebook</a>'\n",
              "            + ' to learn more about interactive tables.';\n",
              "          element.innerHTML = '';\n",
              "          dataTable['output_type'] = 'display_data';\n",
              "          await google.colab.output.renderOutput(dataTable, element);\n",
              "          const docLink = document.createElement('div');\n",
              "          docLink.innerHTML = docLinkHtml;\n",
              "          element.appendChild(docLink);\n",
              "        }\n",
              "      </script>\n",
              "    </div>\n",
              "  </div>\n",
              "  "
            ]
          },
          "metadata": {},
          "execution_count": 7
        }
      ]
    },
    {
      "cell_type": "code",
      "source": [
        "data = trainset[trainset['PassengerId'].str.contains('0003_')]\n",
        "print(data)\n",
        "\n"
      ],
      "metadata": {
        "colab": {
          "base_uri": "https://localhost:8080/"
        },
        "id": "Np-GsTuLFUsD",
        "outputId": "c1343ce7-077f-4fb6-9114-4cf0d3c2f3b0"
      },
      "execution_count": null,
      "outputs": [
        {
          "output_type": "stream",
          "name": "stdout",
          "text": [
            "  PassengerId HomePlanet CryoSleep  Cabin  Destination   Age    VIP  \\\n",
            "2     0003_01     Europa     False  A/0/S  TRAPPIST-1e  58.0   True   \n",
            "3     0003_02     Europa     False  A/0/S  TRAPPIST-1e  33.0  False   \n",
            "\n",
            "   RoomService  FoodCourt  ShoppingMall     Spa  VRDeck           Name  \\\n",
            "2         43.0     3576.0           0.0  6715.0    49.0  Altark Susent   \n",
            "3          0.0     1283.0         371.0  3329.0   193.0   Solam Susent   \n",
            "\n",
            "   Transported  \n",
            "2        False  \n",
            "3        False  \n"
          ]
        }
      ]
    },
    {
      "cell_type": "markdown",
      "source": [
        "Check columns to identify NA"
      ],
      "metadata": {
        "id": "-cXpP1W-i20R"
      }
    },
    {
      "cell_type": "code",
      "source": [
        "trainset['PassengerId'].isnull().sum()"
      ],
      "metadata": {
        "colab": {
          "base_uri": "https://localhost:8080/"
        },
        "id": "k8S2UqrGik5I",
        "outputId": "536f0c94-7b75-4ed7-ba53-a4fe407a175b"
      },
      "execution_count": null,
      "outputs": [
        {
          "output_type": "execute_result",
          "data": {
            "text/plain": [
              "0"
            ]
          },
          "metadata": {},
          "execution_count": 9
        }
      ]
    },
    {
      "cell_type": "code",
      "source": [
        "trainset['HomePlanet'].isnull().sum()"
      ],
      "metadata": {
        "colab": {
          "base_uri": "https://localhost:8080/"
        },
        "id": "2UqxFvToi9Af",
        "outputId": "cf58ea1f-4e97-4021-a7ca-cedf088a2e3a"
      },
      "execution_count": null,
      "outputs": [
        {
          "output_type": "execute_result",
          "data": {
            "text/plain": [
              "201"
            ]
          },
          "metadata": {},
          "execution_count": 10
        }
      ]
    },
    {
      "cell_type": "code",
      "source": [
        "trainset['CryoSleep'].isnull().sum()"
      ],
      "metadata": {
        "colab": {
          "base_uri": "https://localhost:8080/"
        },
        "id": "gEFTqGDvjRnD",
        "outputId": "f075c9ca-8c6f-4965-aac1-61d0973386a6"
      },
      "execution_count": null,
      "outputs": [
        {
          "output_type": "execute_result",
          "data": {
            "text/plain": [
              "217"
            ]
          },
          "metadata": {},
          "execution_count": 11
        }
      ]
    },
    {
      "cell_type": "code",
      "source": [
        "trainset['Cabin'].isnull().sum()"
      ],
      "metadata": {
        "colab": {
          "base_uri": "https://localhost:8080/"
        },
        "id": "BoqAgQn_jjLw",
        "outputId": "13161d2f-7802-403a-fd85-2c1bdbef1135"
      },
      "execution_count": null,
      "outputs": [
        {
          "output_type": "execute_result",
          "data": {
            "text/plain": [
              "199"
            ]
          },
          "metadata": {},
          "execution_count": 12
        }
      ]
    },
    {
      "cell_type": "code",
      "source": [
        "trainset['Destination'].isnull().sum()"
      ],
      "metadata": {
        "colab": {
          "base_uri": "https://localhost:8080/"
        },
        "id": "YloY0jSNjtoY",
        "outputId": "37bb88fb-5d69-4ee3-9abf-736bacf7df6a"
      },
      "execution_count": null,
      "outputs": [
        {
          "output_type": "execute_result",
          "data": {
            "text/plain": [
              "182"
            ]
          },
          "metadata": {},
          "execution_count": 13
        }
      ]
    },
    {
      "cell_type": "code",
      "source": [
        "trainset['Age'].isnull().sum()"
      ],
      "metadata": {
        "colab": {
          "base_uri": "https://localhost:8080/"
        },
        "id": "bTUkylKIj0_a",
        "outputId": "8c2c5e5e-9579-4e9f-bf38-8f88ae3915e5"
      },
      "execution_count": null,
      "outputs": [
        {
          "output_type": "execute_result",
          "data": {
            "text/plain": [
              "179"
            ]
          },
          "metadata": {},
          "execution_count": 14
        }
      ]
    },
    {
      "cell_type": "code",
      "source": [
        "trainset['VIP'].isnull().sum()"
      ],
      "metadata": {
        "colab": {
          "base_uri": "https://localhost:8080/"
        },
        "id": "Ydbt_D-lj6Mw",
        "outputId": "93bf0509-485a-4574-f7a5-4aeb18f0b12f"
      },
      "execution_count": null,
      "outputs": [
        {
          "output_type": "execute_result",
          "data": {
            "text/plain": [
              "203"
            ]
          },
          "metadata": {},
          "execution_count": 15
        }
      ]
    },
    {
      "cell_type": "code",
      "source": [
        "trainset['RoomService'].isnull().sum()"
      ],
      "metadata": {
        "colab": {
          "base_uri": "https://localhost:8080/"
        },
        "id": "-e0EPKfnj_Lq",
        "outputId": "68d1d858-e097-453a-ff58-62c330420e8f"
      },
      "execution_count": null,
      "outputs": [
        {
          "output_type": "execute_result",
          "data": {
            "text/plain": [
              "181"
            ]
          },
          "metadata": {},
          "execution_count": 16
        }
      ]
    },
    {
      "cell_type": "code",
      "source": [
        "trainset['FoodCourt'].isnull().sum()"
      ],
      "metadata": {
        "colab": {
          "base_uri": "https://localhost:8080/"
        },
        "id": "76266LyHkGKb",
        "outputId": "eb8c8bc9-5a1b-452c-b00c-278cc5539618"
      },
      "execution_count": null,
      "outputs": [
        {
          "output_type": "execute_result",
          "data": {
            "text/plain": [
              "183"
            ]
          },
          "metadata": {},
          "execution_count": 17
        }
      ]
    },
    {
      "cell_type": "code",
      "source": [
        "trainset['ShoppingMall'].isnull().sum()"
      ],
      "metadata": {
        "colab": {
          "base_uri": "https://localhost:8080/"
        },
        "id": "qfnnxAOrkR9p",
        "outputId": "e9f586b7-de6c-43fd-afdc-a61d83d7a670"
      },
      "execution_count": null,
      "outputs": [
        {
          "output_type": "execute_result",
          "data": {
            "text/plain": [
              "208"
            ]
          },
          "metadata": {},
          "execution_count": 18
        }
      ]
    },
    {
      "cell_type": "code",
      "source": [
        "trainset['Spa'].isnull().sum()"
      ],
      "metadata": {
        "colab": {
          "base_uri": "https://localhost:8080/"
        },
        "id": "v6szgqDMkYny",
        "outputId": "dc1f9df4-a4cc-482d-d34c-9f8137e7a120"
      },
      "execution_count": null,
      "outputs": [
        {
          "output_type": "execute_result",
          "data": {
            "text/plain": [
              "183"
            ]
          },
          "metadata": {},
          "execution_count": 19
        }
      ]
    },
    {
      "cell_type": "code",
      "source": [
        "trainset['VRDeck'].isnull().sum()"
      ],
      "metadata": {
        "colab": {
          "base_uri": "https://localhost:8080/"
        },
        "id": "OtyVfP92keN_",
        "outputId": "10c1c684-d23a-4cf9-a8d2-7c4cc7e892ae"
      },
      "execution_count": null,
      "outputs": [
        {
          "output_type": "execute_result",
          "data": {
            "text/plain": [
              "188"
            ]
          },
          "metadata": {},
          "execution_count": 20
        }
      ]
    },
    {
      "cell_type": "code",
      "source": [
        "trainset['Name'].isnull().sum()"
      ],
      "metadata": {
        "colab": {
          "base_uri": "https://localhost:8080/"
        },
        "id": "-JKP0Txkkoz4",
        "outputId": "7154fde9-0a1f-4d01-84db-b3801e7cb2a2"
      },
      "execution_count": null,
      "outputs": [
        {
          "output_type": "execute_result",
          "data": {
            "text/plain": [
              "200"
            ]
          },
          "metadata": {},
          "execution_count": 21
        }
      ]
    },
    {
      "cell_type": "code",
      "source": [
        "trainset['Transported'].isnull().sum()"
      ],
      "metadata": {
        "colab": {
          "base_uri": "https://localhost:8080/"
        },
        "id": "ssiPRwkFk1zP",
        "outputId": "3293d2f6-11d0-42ea-c2da-5a13f23ffe02"
      },
      "execution_count": null,
      "outputs": [
        {
          "output_type": "execute_result",
          "data": {
            "text/plain": [
              "0"
            ]
          },
          "metadata": {},
          "execution_count": 22
        }
      ]
    },
    {
      "cell_type": "markdown",
      "source": [
        "From the results above I have decided to set RoomService, FoodCourt, ShoppingMall, Spa, VRDeck Null values to 0, and drop the rows with remaining null values. As the remaining columns data maybe relevant."
      ],
      "metadata": {
        "id": "oN6uAQwunJt4"
      }
    },
    {
      "cell_type": "code",
      "source": [
        "cols_fill_na = ['RoomService', 'FoodCourt', 'ShoppingMall', 'Spa', 'VRDeck']\n",
        "trainset[cols_fill_na] = trainset[cols_fill_na].replace(np.nan,0)"
      ],
      "metadata": {
        "id": "imukeQBcnsIg"
      },
      "execution_count": null,
      "outputs": []
    },
    {
      "cell_type": "code",
      "source": [
        "trainset['RoomService'].isnull().sum()"
      ],
      "metadata": {
        "colab": {
          "base_uri": "https://localhost:8080/"
        },
        "id": "-cz1nz7yrWOG",
        "outputId": "81eab3a3-f2f4-426d-cf1c-19a712a03287"
      },
      "execution_count": null,
      "outputs": [
        {
          "output_type": "execute_result",
          "data": {
            "text/plain": [
              "0"
            ]
          },
          "metadata": {},
          "execution_count": 24
        }
      ]
    },
    {
      "cell_type": "code",
      "source": [
        "testset[cols_fill_na] = testset[cols_fill_na].replace(np.nan,0)"
      ],
      "metadata": {
        "id": "C26telrum5Vt"
      },
      "execution_count": null,
      "outputs": []
    },
    {
      "cell_type": "markdown",
      "source": [],
      "metadata": {
        "id": "JZQ7p__LsRIp"
      }
    },
    {
      "cell_type": "code",
      "source": [
        "trainset['FoodCourt'].isnull().sum()"
      ],
      "metadata": {
        "colab": {
          "base_uri": "https://localhost:8080/"
        },
        "id": "9ZaTfaJXrbRQ",
        "outputId": "e936a207-f7f4-4313-d380-81a5f0a2393e"
      },
      "execution_count": null,
      "outputs": [
        {
          "output_type": "execute_result",
          "data": {
            "text/plain": [
              "0"
            ]
          },
          "metadata": {},
          "execution_count": 26
        }
      ]
    },
    {
      "cell_type": "code",
      "source": [
        "trainset['ShoppingMall'].isnull().sum()"
      ],
      "metadata": {
        "colab": {
          "base_uri": "https://localhost:8080/"
        },
        "id": "yIQHYqZurfSv",
        "outputId": "7ea470b0-f0f7-4cc1-c02d-c0328539ebef"
      },
      "execution_count": null,
      "outputs": [
        {
          "output_type": "execute_result",
          "data": {
            "text/plain": [
              "0"
            ]
          },
          "metadata": {},
          "execution_count": 27
        }
      ]
    },
    {
      "cell_type": "code",
      "source": [
        "trainset['Spa'].isnull().sum()"
      ],
      "metadata": {
        "colab": {
          "base_uri": "https://localhost:8080/"
        },
        "id": "egG4N_HHrjHm",
        "outputId": "a5d1df98-507f-47a5-976a-4b20746061d2"
      },
      "execution_count": null,
      "outputs": [
        {
          "output_type": "execute_result",
          "data": {
            "text/plain": [
              "0"
            ]
          },
          "metadata": {},
          "execution_count": 28
        }
      ]
    },
    {
      "cell_type": "code",
      "source": [
        "trainset['VRDeck'].isnull().sum()"
      ],
      "metadata": {
        "colab": {
          "base_uri": "https://localhost:8080/"
        },
        "id": "81wwxiThrnDO",
        "outputId": "98eb291f-29e4-4aab-c1a0-139816f34ebf"
      },
      "execution_count": null,
      "outputs": [
        {
          "output_type": "execute_result",
          "data": {
            "text/plain": [
              "0"
            ]
          },
          "metadata": {},
          "execution_count": 29
        }
      ]
    },
    {
      "cell_type": "code",
      "source": [
        "trainset.isnull().sum().sum()"
      ],
      "metadata": {
        "colab": {
          "base_uri": "https://localhost:8080/"
        },
        "id": "FV8FHlagmoaY",
        "outputId": "89810451-6637-4bb5-ccde-11844ac255c0"
      },
      "execution_count": null,
      "outputs": [
        {
          "output_type": "execute_result",
          "data": {
            "text/plain": [
              "1381"
            ]
          },
          "metadata": {},
          "execution_count": 30
        }
      ]
    },
    {
      "cell_type": "code",
      "source": [
        "testset.isnull().sum().sum()"
      ],
      "metadata": {
        "colab": {
          "base_uri": "https://localhost:8080/"
        },
        "id": "g3pz-BM2nFRt",
        "outputId": "51c100a0-31b2-4c9b-cab7-acadb12cd7c5"
      },
      "execution_count": null,
      "outputs": [
        {
          "output_type": "execute_result",
          "data": {
            "text/plain": [
              "650"
            ]
          },
          "metadata": {},
          "execution_count": 31
        }
      ]
    },
    {
      "cell_type": "markdown",
      "source": [
        "For the test file replace remaining NA with 0."
      ],
      "metadata": {
        "id": "_VEzIaPHndFF"
      }
    },
    {
      "cell_type": "code",
      "source": [
        "testset = testset.fillna(0)"
      ],
      "metadata": {
        "id": "_LpTp2ElnkY9"
      },
      "execution_count": null,
      "outputs": []
    },
    {
      "cell_type": "code",
      "source": [
        "testset.isnull().sum().sum()"
      ],
      "metadata": {
        "colab": {
          "base_uri": "https://localhost:8080/"
        },
        "id": "VnBGByn2np6H",
        "outputId": "1c88acc2-1c30-48d5-8035-8016d59d9ec3"
      },
      "execution_count": null,
      "outputs": [
        {
          "output_type": "execute_result",
          "data": {
            "text/plain": [
              "0"
            ]
          },
          "metadata": {},
          "execution_count": 33
        }
      ]
    },
    {
      "cell_type": "code",
      "source": [
        "trainset = trainset.fillna(0)"
      ],
      "metadata": {
        "id": "kfBTR-29sUem"
      },
      "execution_count": null,
      "outputs": []
    },
    {
      "cell_type": "code",
      "source": [
        "trainset.isnull().sum().sum()"
      ],
      "metadata": {
        "id": "ZscT-sZ5tAhm",
        "outputId": "adeddb7b-2981-40a8-d09f-305b3aac4a2d",
        "colab": {
          "base_uri": "https://localhost:8080/"
        }
      },
      "execution_count": null,
      "outputs": [
        {
          "output_type": "execute_result",
          "data": {
            "text/plain": [
              "0"
            ]
          },
          "metadata": {},
          "execution_count": 35
        }
      ]
    },
    {
      "cell_type": "code",
      "source": [
        "trainset.shape"
      ],
      "metadata": {
        "id": "qAjDh8FntD7d",
        "outputId": "18f194da-c22d-4f75-f9fc-b9ba382e6ac8",
        "colab": {
          "base_uri": "https://localhost:8080/"
        }
      },
      "execution_count": null,
      "outputs": [
        {
          "output_type": "execute_result",
          "data": {
            "text/plain": [
              "(8693, 14)"
            ]
          },
          "metadata": {},
          "execution_count": 36
        }
      ]
    },
    {
      "cell_type": "markdown",
      "source": [
        "Decide do I need to split PassengerId into group and Id ?\n",
        "Also do I split Name into first and second name ?\n",
        "Cabin split into 3 columns then pandas get dummies ?"
      ],
      "metadata": {
        "id": "HSLuwhBWR80S"
      }
    },
    {
      "cell_type": "code",
      "source": [
        "new_id = trainset['PassengerId'].str.split(\"_\", n =1, expand = True)\n",
        "\n",
        "trainset[\"Id\"] = new_id[0]\n",
        "trainset[\"Group\"] = new_id[1]\n",
        "trainset.drop(columns =[\"PassengerId\"], inplace = True)\n",
        "\n",
        "\n"
      ],
      "metadata": {
        "id": "UBQRh091S-Qz"
      },
      "execution_count": null,
      "outputs": []
    },
    {
      "cell_type": "code",
      "source": [
        "new_id_tf = testset['PassengerId'].str.split(\"_\", n =1, expand = True)\n",
        "\n",
        "testset[\"Id\"] = new_id_tf[0]\n",
        "testset[\"Group\"] = new_id_tf[1]\n",
        "testset.drop(columns =[\"PassengerId\"], inplace = True)\n"
      ],
      "metadata": {
        "id": "P7cYI_N_n4dt"
      },
      "execution_count": null,
      "outputs": []
    },
    {
      "cell_type": "code",
      "source": [
        "new_name = trainset['Name'].str.split(\" \", n =1, expand = True)\n",
        "\n",
        "trainset[\"FirstName\"] = new_name[0]\n",
        "trainset[\"LastName\"] = new_name[1]\n",
        "trainset.drop(columns =[\"Name\"], inplace = True)"
      ],
      "metadata": {
        "id": "bKdGAfsoTAZZ"
      },
      "execution_count": null,
      "outputs": []
    },
    {
      "cell_type": "code",
      "source": [
        "new_name_tf = testset['Name'].str.split(\" \", n =1, expand = True)\n",
        "\n",
        "testset[\"FirstName\"] = new_name_tf[0]\n",
        "testset[\"LastName\"] = new_name_tf[1]\n",
        "testset.drop(columns =[\"Name\"], inplace = True)"
      ],
      "metadata": {
        "id": "YeGWudOsocI1"
      },
      "execution_count": null,
      "outputs": []
    },
    {
      "cell_type": "code",
      "source": [
        "new_cabin = trainset['Cabin'].str.split(\"/\", n =2, expand = True)\n",
        "\n",
        "trainset[\"CabinDeck\"] = new_cabin[0]\n",
        "trainset[\"CabinNum\"] = new_cabin[1]\n",
        "trainset[\"CabinSide\"] = new_cabin[2]\n",
        "trainset.drop(columns =[\"Cabin\"], inplace = True)"
      ],
      "metadata": {
        "id": "FJCTXlBa_i-X"
      },
      "execution_count": null,
      "outputs": []
    },
    {
      "cell_type": "code",
      "source": [
        "new_cabin_tf = testset['Cabin'].str.split(\"/\", n =2, expand = True)\n",
        "\n",
        "testset[\"CabinDeck\"] = new_cabin_tf[0]\n",
        "testset[\"CabinNum\"] = new_cabin_tf[1]\n",
        "testset[\"CabinSide\"] = new_cabin_tf[2]\n",
        "testset.drop(columns =[\"Cabin\"], inplace = True)"
      ],
      "metadata": {
        "id": "tNGUTxrvo6a-"
      },
      "execution_count": null,
      "outputs": []
    },
    {
      "cell_type": "code",
      "source": [
        "trainset.head()"
      ],
      "metadata": {
        "colab": {
          "base_uri": "https://localhost:8080/",
          "height": 357
        },
        "id": "cyYZ1HSZU_VQ",
        "outputId": "35f4dcaf-aaa6-4d58-98c1-3b2e5eb1e55a"
      },
      "execution_count": null,
      "outputs": [
        {
          "output_type": "execute_result",
          "data": {
            "text/plain": [
              "  HomePlanet CryoSleep  Destination   Age    VIP  RoomService  FoodCourt  \\\n",
              "0     Europa     False  TRAPPIST-1e  39.0  False          0.0        0.0   \n",
              "1      Earth     False  TRAPPIST-1e  24.0  False        109.0        9.0   \n",
              "2     Europa     False  TRAPPIST-1e  58.0   True         43.0     3576.0   \n",
              "3     Europa     False  TRAPPIST-1e  33.0  False          0.0     1283.0   \n",
              "4      Earth     False  TRAPPIST-1e  16.0  False        303.0       70.0   \n",
              "\n",
              "   ShoppingMall     Spa  VRDeck  Transported    Id Group FirstName  \\\n",
              "0           0.0     0.0     0.0        False  0001    01     Maham   \n",
              "1          25.0   549.0    44.0         True  0002    01    Juanna   \n",
              "2           0.0  6715.0    49.0        False  0003    01    Altark   \n",
              "3         371.0  3329.0   193.0        False  0003    02     Solam   \n",
              "4         151.0   565.0     2.0         True  0004    01     Willy   \n",
              "\n",
              "      LastName CabinDeck CabinNum CabinSide  \n",
              "0    Ofracculy         B        0         P  \n",
              "1        Vines         F        0         S  \n",
              "2       Susent         A        0         S  \n",
              "3       Susent         A        0         S  \n",
              "4  Santantines         F        1         S  "
            ],
            "text/html": [
              "\n",
              "  <div id=\"df-cfbd1351-030e-4f55-935d-636d8b31de51\">\n",
              "    <div class=\"colab-df-container\">\n",
              "      <div>\n",
              "<style scoped>\n",
              "    .dataframe tbody tr th:only-of-type {\n",
              "        vertical-align: middle;\n",
              "    }\n",
              "\n",
              "    .dataframe tbody tr th {\n",
              "        vertical-align: top;\n",
              "    }\n",
              "\n",
              "    .dataframe thead th {\n",
              "        text-align: right;\n",
              "    }\n",
              "</style>\n",
              "<table border=\"1\" class=\"dataframe\">\n",
              "  <thead>\n",
              "    <tr style=\"text-align: right;\">\n",
              "      <th></th>\n",
              "      <th>HomePlanet</th>\n",
              "      <th>CryoSleep</th>\n",
              "      <th>Destination</th>\n",
              "      <th>Age</th>\n",
              "      <th>VIP</th>\n",
              "      <th>RoomService</th>\n",
              "      <th>FoodCourt</th>\n",
              "      <th>ShoppingMall</th>\n",
              "      <th>Spa</th>\n",
              "      <th>VRDeck</th>\n",
              "      <th>Transported</th>\n",
              "      <th>Id</th>\n",
              "      <th>Group</th>\n",
              "      <th>FirstName</th>\n",
              "      <th>LastName</th>\n",
              "      <th>CabinDeck</th>\n",
              "      <th>CabinNum</th>\n",
              "      <th>CabinSide</th>\n",
              "    </tr>\n",
              "  </thead>\n",
              "  <tbody>\n",
              "    <tr>\n",
              "      <th>0</th>\n",
              "      <td>Europa</td>\n",
              "      <td>False</td>\n",
              "      <td>TRAPPIST-1e</td>\n",
              "      <td>39.0</td>\n",
              "      <td>False</td>\n",
              "      <td>0.0</td>\n",
              "      <td>0.0</td>\n",
              "      <td>0.0</td>\n",
              "      <td>0.0</td>\n",
              "      <td>0.0</td>\n",
              "      <td>False</td>\n",
              "      <td>0001</td>\n",
              "      <td>01</td>\n",
              "      <td>Maham</td>\n",
              "      <td>Ofracculy</td>\n",
              "      <td>B</td>\n",
              "      <td>0</td>\n",
              "      <td>P</td>\n",
              "    </tr>\n",
              "    <tr>\n",
              "      <th>1</th>\n",
              "      <td>Earth</td>\n",
              "      <td>False</td>\n",
              "      <td>TRAPPIST-1e</td>\n",
              "      <td>24.0</td>\n",
              "      <td>False</td>\n",
              "      <td>109.0</td>\n",
              "      <td>9.0</td>\n",
              "      <td>25.0</td>\n",
              "      <td>549.0</td>\n",
              "      <td>44.0</td>\n",
              "      <td>True</td>\n",
              "      <td>0002</td>\n",
              "      <td>01</td>\n",
              "      <td>Juanna</td>\n",
              "      <td>Vines</td>\n",
              "      <td>F</td>\n",
              "      <td>0</td>\n",
              "      <td>S</td>\n",
              "    </tr>\n",
              "    <tr>\n",
              "      <th>2</th>\n",
              "      <td>Europa</td>\n",
              "      <td>False</td>\n",
              "      <td>TRAPPIST-1e</td>\n",
              "      <td>58.0</td>\n",
              "      <td>True</td>\n",
              "      <td>43.0</td>\n",
              "      <td>3576.0</td>\n",
              "      <td>0.0</td>\n",
              "      <td>6715.0</td>\n",
              "      <td>49.0</td>\n",
              "      <td>False</td>\n",
              "      <td>0003</td>\n",
              "      <td>01</td>\n",
              "      <td>Altark</td>\n",
              "      <td>Susent</td>\n",
              "      <td>A</td>\n",
              "      <td>0</td>\n",
              "      <td>S</td>\n",
              "    </tr>\n",
              "    <tr>\n",
              "      <th>3</th>\n",
              "      <td>Europa</td>\n",
              "      <td>False</td>\n",
              "      <td>TRAPPIST-1e</td>\n",
              "      <td>33.0</td>\n",
              "      <td>False</td>\n",
              "      <td>0.0</td>\n",
              "      <td>1283.0</td>\n",
              "      <td>371.0</td>\n",
              "      <td>3329.0</td>\n",
              "      <td>193.0</td>\n",
              "      <td>False</td>\n",
              "      <td>0003</td>\n",
              "      <td>02</td>\n",
              "      <td>Solam</td>\n",
              "      <td>Susent</td>\n",
              "      <td>A</td>\n",
              "      <td>0</td>\n",
              "      <td>S</td>\n",
              "    </tr>\n",
              "    <tr>\n",
              "      <th>4</th>\n",
              "      <td>Earth</td>\n",
              "      <td>False</td>\n",
              "      <td>TRAPPIST-1e</td>\n",
              "      <td>16.0</td>\n",
              "      <td>False</td>\n",
              "      <td>303.0</td>\n",
              "      <td>70.0</td>\n",
              "      <td>151.0</td>\n",
              "      <td>565.0</td>\n",
              "      <td>2.0</td>\n",
              "      <td>True</td>\n",
              "      <td>0004</td>\n",
              "      <td>01</td>\n",
              "      <td>Willy</td>\n",
              "      <td>Santantines</td>\n",
              "      <td>F</td>\n",
              "      <td>1</td>\n",
              "      <td>S</td>\n",
              "    </tr>\n",
              "  </tbody>\n",
              "</table>\n",
              "</div>\n",
              "      <button class=\"colab-df-convert\" onclick=\"convertToInteractive('df-cfbd1351-030e-4f55-935d-636d8b31de51')\"\n",
              "              title=\"Convert this dataframe to an interactive table.\"\n",
              "              style=\"display:none;\">\n",
              "        \n",
              "  <svg xmlns=\"http://www.w3.org/2000/svg\" height=\"24px\"viewBox=\"0 0 24 24\"\n",
              "       width=\"24px\">\n",
              "    <path d=\"M0 0h24v24H0V0z\" fill=\"none\"/>\n",
              "    <path d=\"M18.56 5.44l.94 2.06.94-2.06 2.06-.94-2.06-.94-.94-2.06-.94 2.06-2.06.94zm-11 1L8.5 8.5l.94-2.06 2.06-.94-2.06-.94L8.5 2.5l-.94 2.06-2.06.94zm10 10l.94 2.06.94-2.06 2.06-.94-2.06-.94-.94-2.06-.94 2.06-2.06.94z\"/><path d=\"M17.41 7.96l-1.37-1.37c-.4-.4-.92-.59-1.43-.59-.52 0-1.04.2-1.43.59L10.3 9.45l-7.72 7.72c-.78.78-.78 2.05 0 2.83L4 21.41c.39.39.9.59 1.41.59.51 0 1.02-.2 1.41-.59l7.78-7.78 2.81-2.81c.8-.78.8-2.07 0-2.86zM5.41 20L4 18.59l7.72-7.72 1.47 1.35L5.41 20z\"/>\n",
              "  </svg>\n",
              "      </button>\n",
              "      \n",
              "  <style>\n",
              "    .colab-df-container {\n",
              "      display:flex;\n",
              "      flex-wrap:wrap;\n",
              "      gap: 12px;\n",
              "    }\n",
              "\n",
              "    .colab-df-convert {\n",
              "      background-color: #E8F0FE;\n",
              "      border: none;\n",
              "      border-radius: 50%;\n",
              "      cursor: pointer;\n",
              "      display: none;\n",
              "      fill: #1967D2;\n",
              "      height: 32px;\n",
              "      padding: 0 0 0 0;\n",
              "      width: 32px;\n",
              "    }\n",
              "\n",
              "    .colab-df-convert:hover {\n",
              "      background-color: #E2EBFA;\n",
              "      box-shadow: 0px 1px 2px rgba(60, 64, 67, 0.3), 0px 1px 3px 1px rgba(60, 64, 67, 0.15);\n",
              "      fill: #174EA6;\n",
              "    }\n",
              "\n",
              "    [theme=dark] .colab-df-convert {\n",
              "      background-color: #3B4455;\n",
              "      fill: #D2E3FC;\n",
              "    }\n",
              "\n",
              "    [theme=dark] .colab-df-convert:hover {\n",
              "      background-color: #434B5C;\n",
              "      box-shadow: 0px 1px 3px 1px rgba(0, 0, 0, 0.15);\n",
              "      filter: drop-shadow(0px 1px 2px rgba(0, 0, 0, 0.3));\n",
              "      fill: #FFFFFF;\n",
              "    }\n",
              "  </style>\n",
              "\n",
              "      <script>\n",
              "        const buttonEl =\n",
              "          document.querySelector('#df-cfbd1351-030e-4f55-935d-636d8b31de51 button.colab-df-convert');\n",
              "        buttonEl.style.display =\n",
              "          google.colab.kernel.accessAllowed ? 'block' : 'none';\n",
              "\n",
              "        async function convertToInteractive(key) {\n",
              "          const element = document.querySelector('#df-cfbd1351-030e-4f55-935d-636d8b31de51');\n",
              "          const dataTable =\n",
              "            await google.colab.kernel.invokeFunction('convertToInteractive',\n",
              "                                                     [key], {});\n",
              "          if (!dataTable) return;\n",
              "\n",
              "          const docLinkHtml = 'Like what you see? Visit the ' +\n",
              "            '<a target=\"_blank\" href=https://colab.research.google.com/notebooks/data_table.ipynb>data table notebook</a>'\n",
              "            + ' to learn more about interactive tables.';\n",
              "          element.innerHTML = '';\n",
              "          dataTable['output_type'] = 'display_data';\n",
              "          await google.colab.output.renderOutput(dataTable, element);\n",
              "          const docLink = document.createElement('div');\n",
              "          docLink.innerHTML = docLinkHtml;\n",
              "          element.appendChild(docLink);\n",
              "        }\n",
              "      </script>\n",
              "    </div>\n",
              "  </div>\n",
              "  "
            ]
          },
          "metadata": {},
          "execution_count": 43
        }
      ]
    },
    {
      "cell_type": "code",
      "source": [
        "testset.head()"
      ],
      "metadata": {
        "colab": {
          "base_uri": "https://localhost:8080/",
          "height": 340
        },
        "id": "z5B9CwfvoLnf",
        "outputId": "28ddc97f-e250-41b5-93e5-01651ca4ad04"
      },
      "execution_count": null,
      "outputs": [
        {
          "output_type": "execute_result",
          "data": {
            "text/plain": [
              "  HomePlanet CryoSleep  Destination   Age    VIP  RoomService  FoodCourt  \\\n",
              "0      Earth      True  TRAPPIST-1e  27.0  False          0.0        0.0   \n",
              "1      Earth     False  TRAPPIST-1e  19.0  False          0.0        9.0   \n",
              "2     Europa      True  55 Cancri e  31.0  False          0.0        0.0   \n",
              "3     Europa     False  TRAPPIST-1e  38.0  False          0.0     6652.0   \n",
              "4      Earth     False  TRAPPIST-1e  20.0  False         10.0        0.0   \n",
              "\n",
              "   ShoppingMall     Spa  VRDeck    Id Group FirstName   LastName CabinDeck  \\\n",
              "0           0.0     0.0     0.0  0013    01     Nelly  Carsoning         G   \n",
              "1           0.0  2823.0     0.0  0018    01    Lerome    Peckers         F   \n",
              "2           0.0     0.0     0.0  0019    01     Sabih  Unhearfus         C   \n",
              "3           0.0   181.0   585.0  0021    01    Meratz  Caltilter         C   \n",
              "4         635.0     0.0     0.0  0023    01    Brence   Harperez         F   \n",
              "\n",
              "  CabinNum CabinSide  \n",
              "0        3         S  \n",
              "1        4         S  \n",
              "2        0         S  \n",
              "3        1         S  \n",
              "4        5         S  "
            ],
            "text/html": [
              "\n",
              "  <div id=\"df-44cf16b2-f5e1-4d72-81b9-b146b432c173\">\n",
              "    <div class=\"colab-df-container\">\n",
              "      <div>\n",
              "<style scoped>\n",
              "    .dataframe tbody tr th:only-of-type {\n",
              "        vertical-align: middle;\n",
              "    }\n",
              "\n",
              "    .dataframe tbody tr th {\n",
              "        vertical-align: top;\n",
              "    }\n",
              "\n",
              "    .dataframe thead th {\n",
              "        text-align: right;\n",
              "    }\n",
              "</style>\n",
              "<table border=\"1\" class=\"dataframe\">\n",
              "  <thead>\n",
              "    <tr style=\"text-align: right;\">\n",
              "      <th></th>\n",
              "      <th>HomePlanet</th>\n",
              "      <th>CryoSleep</th>\n",
              "      <th>Destination</th>\n",
              "      <th>Age</th>\n",
              "      <th>VIP</th>\n",
              "      <th>RoomService</th>\n",
              "      <th>FoodCourt</th>\n",
              "      <th>ShoppingMall</th>\n",
              "      <th>Spa</th>\n",
              "      <th>VRDeck</th>\n",
              "      <th>Id</th>\n",
              "      <th>Group</th>\n",
              "      <th>FirstName</th>\n",
              "      <th>LastName</th>\n",
              "      <th>CabinDeck</th>\n",
              "      <th>CabinNum</th>\n",
              "      <th>CabinSide</th>\n",
              "    </tr>\n",
              "  </thead>\n",
              "  <tbody>\n",
              "    <tr>\n",
              "      <th>0</th>\n",
              "      <td>Earth</td>\n",
              "      <td>True</td>\n",
              "      <td>TRAPPIST-1e</td>\n",
              "      <td>27.0</td>\n",
              "      <td>False</td>\n",
              "      <td>0.0</td>\n",
              "      <td>0.0</td>\n",
              "      <td>0.0</td>\n",
              "      <td>0.0</td>\n",
              "      <td>0.0</td>\n",
              "      <td>0013</td>\n",
              "      <td>01</td>\n",
              "      <td>Nelly</td>\n",
              "      <td>Carsoning</td>\n",
              "      <td>G</td>\n",
              "      <td>3</td>\n",
              "      <td>S</td>\n",
              "    </tr>\n",
              "    <tr>\n",
              "      <th>1</th>\n",
              "      <td>Earth</td>\n",
              "      <td>False</td>\n",
              "      <td>TRAPPIST-1e</td>\n",
              "      <td>19.0</td>\n",
              "      <td>False</td>\n",
              "      <td>0.0</td>\n",
              "      <td>9.0</td>\n",
              "      <td>0.0</td>\n",
              "      <td>2823.0</td>\n",
              "      <td>0.0</td>\n",
              "      <td>0018</td>\n",
              "      <td>01</td>\n",
              "      <td>Lerome</td>\n",
              "      <td>Peckers</td>\n",
              "      <td>F</td>\n",
              "      <td>4</td>\n",
              "      <td>S</td>\n",
              "    </tr>\n",
              "    <tr>\n",
              "      <th>2</th>\n",
              "      <td>Europa</td>\n",
              "      <td>True</td>\n",
              "      <td>55 Cancri e</td>\n",
              "      <td>31.0</td>\n",
              "      <td>False</td>\n",
              "      <td>0.0</td>\n",
              "      <td>0.0</td>\n",
              "      <td>0.0</td>\n",
              "      <td>0.0</td>\n",
              "      <td>0.0</td>\n",
              "      <td>0019</td>\n",
              "      <td>01</td>\n",
              "      <td>Sabih</td>\n",
              "      <td>Unhearfus</td>\n",
              "      <td>C</td>\n",
              "      <td>0</td>\n",
              "      <td>S</td>\n",
              "    </tr>\n",
              "    <tr>\n",
              "      <th>3</th>\n",
              "      <td>Europa</td>\n",
              "      <td>False</td>\n",
              "      <td>TRAPPIST-1e</td>\n",
              "      <td>38.0</td>\n",
              "      <td>False</td>\n",
              "      <td>0.0</td>\n",
              "      <td>6652.0</td>\n",
              "      <td>0.0</td>\n",
              "      <td>181.0</td>\n",
              "      <td>585.0</td>\n",
              "      <td>0021</td>\n",
              "      <td>01</td>\n",
              "      <td>Meratz</td>\n",
              "      <td>Caltilter</td>\n",
              "      <td>C</td>\n",
              "      <td>1</td>\n",
              "      <td>S</td>\n",
              "    </tr>\n",
              "    <tr>\n",
              "      <th>4</th>\n",
              "      <td>Earth</td>\n",
              "      <td>False</td>\n",
              "      <td>TRAPPIST-1e</td>\n",
              "      <td>20.0</td>\n",
              "      <td>False</td>\n",
              "      <td>10.0</td>\n",
              "      <td>0.0</td>\n",
              "      <td>635.0</td>\n",
              "      <td>0.0</td>\n",
              "      <td>0.0</td>\n",
              "      <td>0023</td>\n",
              "      <td>01</td>\n",
              "      <td>Brence</td>\n",
              "      <td>Harperez</td>\n",
              "      <td>F</td>\n",
              "      <td>5</td>\n",
              "      <td>S</td>\n",
              "    </tr>\n",
              "  </tbody>\n",
              "</table>\n",
              "</div>\n",
              "      <button class=\"colab-df-convert\" onclick=\"convertToInteractive('df-44cf16b2-f5e1-4d72-81b9-b146b432c173')\"\n",
              "              title=\"Convert this dataframe to an interactive table.\"\n",
              "              style=\"display:none;\">\n",
              "        \n",
              "  <svg xmlns=\"http://www.w3.org/2000/svg\" height=\"24px\"viewBox=\"0 0 24 24\"\n",
              "       width=\"24px\">\n",
              "    <path d=\"M0 0h24v24H0V0z\" fill=\"none\"/>\n",
              "    <path d=\"M18.56 5.44l.94 2.06.94-2.06 2.06-.94-2.06-.94-.94-2.06-.94 2.06-2.06.94zm-11 1L8.5 8.5l.94-2.06 2.06-.94-2.06-.94L8.5 2.5l-.94 2.06-2.06.94zm10 10l.94 2.06.94-2.06 2.06-.94-2.06-.94-.94-2.06-.94 2.06-2.06.94z\"/><path d=\"M17.41 7.96l-1.37-1.37c-.4-.4-.92-.59-1.43-.59-.52 0-1.04.2-1.43.59L10.3 9.45l-7.72 7.72c-.78.78-.78 2.05 0 2.83L4 21.41c.39.39.9.59 1.41.59.51 0 1.02-.2 1.41-.59l7.78-7.78 2.81-2.81c.8-.78.8-2.07 0-2.86zM5.41 20L4 18.59l7.72-7.72 1.47 1.35L5.41 20z\"/>\n",
              "  </svg>\n",
              "      </button>\n",
              "      \n",
              "  <style>\n",
              "    .colab-df-container {\n",
              "      display:flex;\n",
              "      flex-wrap:wrap;\n",
              "      gap: 12px;\n",
              "    }\n",
              "\n",
              "    .colab-df-convert {\n",
              "      background-color: #E8F0FE;\n",
              "      border: none;\n",
              "      border-radius: 50%;\n",
              "      cursor: pointer;\n",
              "      display: none;\n",
              "      fill: #1967D2;\n",
              "      height: 32px;\n",
              "      padding: 0 0 0 0;\n",
              "      width: 32px;\n",
              "    }\n",
              "\n",
              "    .colab-df-convert:hover {\n",
              "      background-color: #E2EBFA;\n",
              "      box-shadow: 0px 1px 2px rgba(60, 64, 67, 0.3), 0px 1px 3px 1px rgba(60, 64, 67, 0.15);\n",
              "      fill: #174EA6;\n",
              "    }\n",
              "\n",
              "    [theme=dark] .colab-df-convert {\n",
              "      background-color: #3B4455;\n",
              "      fill: #D2E3FC;\n",
              "    }\n",
              "\n",
              "    [theme=dark] .colab-df-convert:hover {\n",
              "      background-color: #434B5C;\n",
              "      box-shadow: 0px 1px 3px 1px rgba(0, 0, 0, 0.15);\n",
              "      filter: drop-shadow(0px 1px 2px rgba(0, 0, 0, 0.3));\n",
              "      fill: #FFFFFF;\n",
              "    }\n",
              "  </style>\n",
              "\n",
              "      <script>\n",
              "        const buttonEl =\n",
              "          document.querySelector('#df-44cf16b2-f5e1-4d72-81b9-b146b432c173 button.colab-df-convert');\n",
              "        buttonEl.style.display =\n",
              "          google.colab.kernel.accessAllowed ? 'block' : 'none';\n",
              "\n",
              "        async function convertToInteractive(key) {\n",
              "          const element = document.querySelector('#df-44cf16b2-f5e1-4d72-81b9-b146b432c173');\n",
              "          const dataTable =\n",
              "            await google.colab.kernel.invokeFunction('convertToInteractive',\n",
              "                                                     [key], {});\n",
              "          if (!dataTable) return;\n",
              "\n",
              "          const docLinkHtml = 'Like what you see? Visit the ' +\n",
              "            '<a target=\"_blank\" href=https://colab.research.google.com/notebooks/data_table.ipynb>data table notebook</a>'\n",
              "            + ' to learn more about interactive tables.';\n",
              "          element.innerHTML = '';\n",
              "          dataTable['output_type'] = 'display_data';\n",
              "          await google.colab.output.renderOutput(dataTable, element);\n",
              "          const docLink = document.createElement('div');\n",
              "          docLink.innerHTML = docLinkHtml;\n",
              "          element.appendChild(docLink);\n",
              "        }\n",
              "      </script>\n",
              "    </div>\n",
              "  </div>\n",
              "  "
            ]
          },
          "metadata": {},
          "execution_count": 44
        }
      ]
    },
    {
      "cell_type": "markdown",
      "source": [
        "Encoding"
      ],
      "metadata": {
        "id": "kq0uu1Q-BFLM"
      }
    },
    {
      "cell_type": "code",
      "source": [
        "catcols = ['HomePlanet','CryoSleep','Destination','VIP','Id','Group','FirstName','LastName','CabinDeck','CabinNum','CabinSide']\n",
        "trainset = pd.get_dummies(trainset,columns=catcols, drop_first=True)"
      ],
      "metadata": {
        "id": "oiZjWCETAxC2"
      },
      "execution_count": null,
      "outputs": []
    },
    {
      "cell_type": "markdown",
      "source": [],
      "metadata": {
        "id": "EeTAzKBwq5Op"
      }
    },
    {
      "cell_type": "code",
      "source": [
        "testset = pd.get_dummies(testset,columns=catcols, drop_first=True)"
      ],
      "metadata": {
        "id": "isdhZ6PKq3tm"
      },
      "execution_count": null,
      "outputs": []
    },
    {
      "cell_type": "code",
      "source": [
        "trainset.shape"
      ],
      "metadata": {
        "colab": {
          "base_uri": "https://localhost:8080/"
        },
        "id": "4bBIsvIgCLgd",
        "outputId": "6e3b02cf-bd96-4bf4-8ab3-ec349a8ef6fe"
      },
      "execution_count": null,
      "outputs": [
        {
          "output_type": "execute_result",
          "data": {
            "text/plain": [
              "(8693, 12983)"
            ]
          },
          "metadata": {},
          "execution_count": 47
        }
      ]
    },
    {
      "cell_type": "code",
      "source": [
        "testset.shape"
      ],
      "metadata": {
        "colab": {
          "base_uri": "https://localhost:8080/"
        },
        "id": "E7wztLd-rEya",
        "outputId": "63309e22-209b-41aa-e410-bb4c664677a0"
      },
      "execution_count": null,
      "outputs": [
        {
          "output_type": "execute_result",
          "data": {
            "text/plain": [
              "(4277, 8448)"
            ]
          },
          "metadata": {},
          "execution_count": 48
        }
      ]
    },
    {
      "cell_type": "code",
      "source": [
        "traincols = trainset.columns\n",
        "len(traincols)"
      ],
      "metadata": {
        "colab": {
          "base_uri": "https://localhost:8080/"
        },
        "id": "eTYiILO910JT",
        "outputId": "4d02c934-77a4-4568-8c4f-a5e0895af5d9"
      },
      "execution_count": null,
      "outputs": [
        {
          "output_type": "execute_result",
          "data": {
            "text/plain": [
              "12983"
            ]
          },
          "metadata": {},
          "execution_count": 49
        }
      ]
    },
    {
      "cell_type": "code",
      "source": [
        "testcols = testset.columns\n",
        "len(testcols)"
      ],
      "metadata": {
        "colab": {
          "base_uri": "https://localhost:8080/"
        },
        "id": "XGnB0tjt12CJ",
        "outputId": "4a3855a8-8c30-4972-da1b-ddead6b06107"
      },
      "execution_count": null,
      "outputs": [
        {
          "output_type": "execute_result",
          "data": {
            "text/plain": [
              "8448"
            ]
          },
          "metadata": {},
          "execution_count": 50
        }
      ]
    },
    {
      "cell_type": "code",
      "source": [
        "non_testcols = trainset.columns[~trainset.columns.isin(testcols)]\n",
        "non_testcols\n",
        "len(non_testcols)"
      ],
      "metadata": {
        "colab": {
          "base_uri": "https://localhost:8080/"
        },
        "id": "HwfhbNmf18wy",
        "outputId": "87f6ba97-971f-4a3a-dd28-ee8046769175"
      },
      "execution_count": null,
      "outputs": [
        {
          "output_type": "execute_result",
          "data": {
            "text/plain": [
              "8040"
            ]
          },
          "metadata": {},
          "execution_count": 51
        }
      ]
    },
    {
      "cell_type": "code",
      "source": [
        "in_testcols = trainset.columns[trainset.columns.isin(testcols)]\n",
        "in_testcols"
      ],
      "metadata": {
        "colab": {
          "base_uri": "https://localhost:8080/"
        },
        "id": "NpPfg8Et2GaZ",
        "outputId": "d00c281e-f9cb-4108-f4a9-536ef28743e4"
      },
      "execution_count": null,
      "outputs": [
        {
          "output_type": "execute_result",
          "data": {
            "text/plain": [
              "Index(['Age', 'RoomService', 'FoodCourt', 'ShoppingMall', 'Spa', 'VRDeck',\n",
              "       'HomePlanet_Earth', 'HomePlanet_Europa', 'HomePlanet_Mars',\n",
              "       'CryoSleep_True',\n",
              "       ...\n",
              "       'CabinNum_989', 'CabinNum_99', 'CabinNum_990', 'CabinNum_992',\n",
              "       'CabinNum_993', 'CabinNum_994', 'CabinNum_995', 'CabinNum_996',\n",
              "       'CabinNum_997', 'CabinSide_S'],\n",
              "      dtype='object', length=4943)"
            ]
          },
          "metadata": {},
          "execution_count": 52
        }
      ]
    },
    {
      "cell_type": "markdown",
      "source": [
        "Need to drop the above columns and then train model.\n",
        "\n",
        "From list above identify the columns the data is from by looking at data descriptions. \n",
        "\n",
        "This needs to be done prior to encoding.\n",
        "\n",
        "Then eliminate columns."
      ],
      "metadata": {
        "id": "Pd24LxI92e1V"
      }
    },
    {
      "cell_type": "code",
      "source": [
        "non_testcols= list(non_testcols)\n",
        "non_testcols.remove('Transported')\n",
        "non_testcols"
      ],
      "metadata": {
        "colab": {
          "base_uri": "https://localhost:8080/"
        },
        "id": "oj1LKUlc2oh8",
        "outputId": "ba48dafc-b8ad-4655-9687-49502e069a59"
      },
      "execution_count": null,
      "outputs": [
        {
          "output_type": "execute_result",
          "data": {
            "text/plain": [
              "['Id_0002',\n",
              " 'Id_0003',\n",
              " 'Id_0004',\n",
              " 'Id_0005',\n",
              " 'Id_0006',\n",
              " 'Id_0007',\n",
              " 'Id_0008',\n",
              " 'Id_0009',\n",
              " 'Id_0010',\n",
              " 'Id_0011',\n",
              " 'Id_0012',\n",
              " 'Id_0014',\n",
              " 'Id_0015',\n",
              " 'Id_0016',\n",
              " 'Id_0017',\n",
              " 'Id_0020',\n",
              " 'Id_0022',\n",
              " 'Id_0024',\n",
              " 'Id_0025',\n",
              " 'Id_0026',\n",
              " 'Id_0028',\n",
              " 'Id_0030',\n",
              " 'Id_0031',\n",
              " 'Id_0034',\n",
              " 'Id_0035',\n",
              " 'Id_0036',\n",
              " 'Id_0038',\n",
              " 'Id_0039',\n",
              " 'Id_0041',\n",
              " 'Id_0043',\n",
              " 'Id_0044',\n",
              " 'Id_0045',\n",
              " 'Id_0050',\n",
              " 'Id_0051',\n",
              " 'Id_0052',\n",
              " 'Id_0053',\n",
              " 'Id_0056',\n",
              " 'Id_0058',\n",
              " 'Id_0061',\n",
              " 'Id_0062',\n",
              " 'Id_0064',\n",
              " 'Id_0066',\n",
              " 'Id_0067',\n",
              " 'Id_0068',\n",
              " 'Id_0069',\n",
              " 'Id_0070',\n",
              " 'Id_0071',\n",
              " 'Id_0072',\n",
              " 'Id_0073',\n",
              " 'Id_0074',\n",
              " 'Id_0076',\n",
              " 'Id_0077',\n",
              " 'Id_0078',\n",
              " 'Id_0081',\n",
              " 'Id_0082',\n",
              " 'Id_0084',\n",
              " 'Id_0085',\n",
              " 'Id_0086',\n",
              " 'Id_0088',\n",
              " 'Id_0090',\n",
              " 'Id_0091',\n",
              " 'Id_0092',\n",
              " 'Id_0097',\n",
              " 'Id_0098',\n",
              " 'Id_0099',\n",
              " 'Id_0101',\n",
              " 'Id_0102',\n",
              " 'Id_0103',\n",
              " 'Id_0105',\n",
              " 'Id_0107',\n",
              " 'Id_0108',\n",
              " 'Id_0110',\n",
              " 'Id_0111',\n",
              " 'Id_0112',\n",
              " 'Id_0113',\n",
              " 'Id_0114',\n",
              " 'Id_0115',\n",
              " 'Id_0116',\n",
              " 'Id_0119',\n",
              " 'Id_0120',\n",
              " 'Id_0122',\n",
              " 'Id_0123',\n",
              " 'Id_0126',\n",
              " 'Id_0127',\n",
              " 'Id_0128',\n",
              " 'Id_0129',\n",
              " 'Id_0133',\n",
              " 'Id_0134',\n",
              " 'Id_0136',\n",
              " 'Id_0138',\n",
              " 'Id_0139',\n",
              " 'Id_0140',\n",
              " 'Id_0141',\n",
              " 'Id_0144',\n",
              " 'Id_0146',\n",
              " 'Id_0147',\n",
              " 'Id_0148',\n",
              " 'Id_0149',\n",
              " 'Id_0151',\n",
              " 'Id_0152',\n",
              " 'Id_0160',\n",
              " 'Id_0163',\n",
              " 'Id_0164',\n",
              " 'Id_0165',\n",
              " 'Id_0167',\n",
              " 'Id_0169',\n",
              " 'Id_0170',\n",
              " 'Id_0171',\n",
              " 'Id_0172',\n",
              " 'Id_0173',\n",
              " 'Id_0174',\n",
              " 'Id_0177',\n",
              " 'Id_0178',\n",
              " 'Id_0179',\n",
              " 'Id_0181',\n",
              " 'Id_0182',\n",
              " 'Id_0183',\n",
              " 'Id_0186',\n",
              " 'Id_0188',\n",
              " 'Id_0189',\n",
              " 'Id_0190',\n",
              " 'Id_0192',\n",
              " 'Id_0193',\n",
              " 'Id_0195',\n",
              " 'Id_0196',\n",
              " 'Id_0197',\n",
              " 'Id_0198',\n",
              " 'Id_0199',\n",
              " 'Id_0200',\n",
              " 'Id_0201',\n",
              " 'Id_0202',\n",
              " 'Id_0203',\n",
              " 'Id_0205',\n",
              " 'Id_0206',\n",
              " 'Id_0207',\n",
              " 'Id_0210',\n",
              " 'Id_0211',\n",
              " 'Id_0212',\n",
              " 'Id_0213',\n",
              " 'Id_0216',\n",
              " 'Id_0217',\n",
              " 'Id_0219',\n",
              " 'Id_0220',\n",
              " 'Id_0221',\n",
              " 'Id_0222',\n",
              " 'Id_0223',\n",
              " 'Id_0224',\n",
              " 'Id_0225',\n",
              " 'Id_0229',\n",
              " 'Id_0231',\n",
              " 'Id_0232',\n",
              " 'Id_0233',\n",
              " 'Id_0234',\n",
              " 'Id_0237',\n",
              " 'Id_0239',\n",
              " 'Id_0240',\n",
              " 'Id_0241',\n",
              " 'Id_0242',\n",
              " 'Id_0243',\n",
              " 'Id_0244',\n",
              " 'Id_0245',\n",
              " 'Id_0246',\n",
              " 'Id_0248',\n",
              " 'Id_0250',\n",
              " 'Id_0251',\n",
              " 'Id_0252',\n",
              " 'Id_0253',\n",
              " 'Id_0254',\n",
              " 'Id_0255',\n",
              " 'Id_0257',\n",
              " 'Id_0258',\n",
              " 'Id_0260',\n",
              " 'Id_0261',\n",
              " 'Id_0263',\n",
              " 'Id_0265',\n",
              " 'Id_0267',\n",
              " 'Id_0269',\n",
              " 'Id_0270',\n",
              " 'Id_0275',\n",
              " 'Id_0277',\n",
              " 'Id_0278',\n",
              " 'Id_0281',\n",
              " 'Id_0282',\n",
              " 'Id_0283',\n",
              " 'Id_0285',\n",
              " 'Id_0286',\n",
              " 'Id_0287',\n",
              " 'Id_0288',\n",
              " 'Id_0289',\n",
              " 'Id_0290',\n",
              " 'Id_0291',\n",
              " 'Id_0294',\n",
              " 'Id_0297',\n",
              " 'Id_0298',\n",
              " 'Id_0301',\n",
              " 'Id_0302',\n",
              " 'Id_0303',\n",
              " 'Id_0304',\n",
              " 'Id_0305',\n",
              " 'Id_0306',\n",
              " 'Id_0307',\n",
              " 'Id_0309',\n",
              " 'Id_0310',\n",
              " 'Id_0313',\n",
              " 'Id_0314',\n",
              " 'Id_0315',\n",
              " 'Id_0316',\n",
              " 'Id_0320',\n",
              " 'Id_0321',\n",
              " 'Id_0322',\n",
              " 'Id_0324',\n",
              " 'Id_0326',\n",
              " 'Id_0327',\n",
              " 'Id_0330',\n",
              " 'Id_0331',\n",
              " 'Id_0333',\n",
              " 'Id_0334',\n",
              " 'Id_0336',\n",
              " 'Id_0337',\n",
              " 'Id_0338',\n",
              " 'Id_0340',\n",
              " 'Id_0341',\n",
              " 'Id_0343',\n",
              " 'Id_0345',\n",
              " 'Id_0346',\n",
              " 'Id_0347',\n",
              " 'Id_0348',\n",
              " 'Id_0350',\n",
              " 'Id_0352',\n",
              " 'Id_0355',\n",
              " 'Id_0356',\n",
              " 'Id_0357',\n",
              " 'Id_0358',\n",
              " 'Id_0359',\n",
              " 'Id_0360',\n",
              " 'Id_0361',\n",
              " 'Id_0365',\n",
              " 'Id_0368',\n",
              " 'Id_0369',\n",
              " 'Id_0370',\n",
              " 'Id_0371',\n",
              " 'Id_0372',\n",
              " 'Id_0373',\n",
              " 'Id_0375',\n",
              " 'Id_0376',\n",
              " 'Id_0377',\n",
              " 'Id_0378',\n",
              " 'Id_0379',\n",
              " 'Id_0380',\n",
              " 'Id_0381',\n",
              " 'Id_0382',\n",
              " 'Id_0383',\n",
              " 'Id_0384',\n",
              " 'Id_0385',\n",
              " 'Id_0387',\n",
              " 'Id_0388',\n",
              " 'Id_0389',\n",
              " 'Id_0391',\n",
              " 'Id_0392',\n",
              " 'Id_0395',\n",
              " 'Id_0396',\n",
              " 'Id_0397',\n",
              " 'Id_0398',\n",
              " 'Id_0401',\n",
              " 'Id_0402',\n",
              " 'Id_0403',\n",
              " 'Id_0405',\n",
              " 'Id_0407',\n",
              " 'Id_0408',\n",
              " 'Id_0409',\n",
              " 'Id_0410',\n",
              " 'Id_0411',\n",
              " 'Id_0412',\n",
              " 'Id_0413',\n",
              " 'Id_0415',\n",
              " 'Id_0417',\n",
              " 'Id_0423',\n",
              " 'Id_0425',\n",
              " 'Id_0427',\n",
              " 'Id_0428',\n",
              " 'Id_0429',\n",
              " 'Id_0430',\n",
              " 'Id_0431',\n",
              " 'Id_0432',\n",
              " 'Id_0433',\n",
              " 'Id_0434',\n",
              " 'Id_0435',\n",
              " 'Id_0436',\n",
              " 'Id_0437',\n",
              " 'Id_0438',\n",
              " 'Id_0439',\n",
              " 'Id_0441',\n",
              " 'Id_0442',\n",
              " 'Id_0444',\n",
              " 'Id_0445',\n",
              " 'Id_0446',\n",
              " 'Id_0447',\n",
              " 'Id_0448',\n",
              " 'Id_0449',\n",
              " 'Id_0452',\n",
              " 'Id_0453',\n",
              " 'Id_0454',\n",
              " 'Id_0456',\n",
              " 'Id_0457',\n",
              " 'Id_0458',\n",
              " 'Id_0459',\n",
              " 'Id_0460',\n",
              " 'Id_0461',\n",
              " 'Id_0462',\n",
              " 'Id_0463',\n",
              " 'Id_0465',\n",
              " 'Id_0466',\n",
              " 'Id_0468',\n",
              " 'Id_0470',\n",
              " 'Id_0471',\n",
              " 'Id_0472',\n",
              " 'Id_0474',\n",
              " 'Id_0475',\n",
              " 'Id_0476',\n",
              " 'Id_0477',\n",
              " 'Id_0480',\n",
              " 'Id_0481',\n",
              " 'Id_0482',\n",
              " 'Id_0485',\n",
              " 'Id_0487',\n",
              " 'Id_0488',\n",
              " 'Id_0490',\n",
              " 'Id_0498',\n",
              " 'Id_0499',\n",
              " 'Id_0500',\n",
              " 'Id_0501',\n",
              " 'Id_0502',\n",
              " 'Id_0503',\n",
              " 'Id_0504',\n",
              " 'Id_0506',\n",
              " 'Id_0507',\n",
              " 'Id_0510',\n",
              " 'Id_0512',\n",
              " 'Id_0513',\n",
              " 'Id_0515',\n",
              " 'Id_0516',\n",
              " 'Id_0517',\n",
              " 'Id_0518',\n",
              " 'Id_0519',\n",
              " 'Id_0520',\n",
              " 'Id_0521',\n",
              " 'Id_0522',\n",
              " 'Id_0523',\n",
              " 'Id_0525',\n",
              " 'Id_0527',\n",
              " 'Id_0528',\n",
              " 'Id_0529',\n",
              " 'Id_0531',\n",
              " 'Id_0533',\n",
              " 'Id_0534',\n",
              " 'Id_0537',\n",
              " 'Id_0538',\n",
              " 'Id_0539',\n",
              " 'Id_0540',\n",
              " 'Id_0542',\n",
              " 'Id_0545',\n",
              " 'Id_0546',\n",
              " 'Id_0547',\n",
              " 'Id_0548',\n",
              " 'Id_0549',\n",
              " 'Id_0550',\n",
              " 'Id_0551',\n",
              " 'Id_0552',\n",
              " 'Id_0553',\n",
              " 'Id_0555',\n",
              " 'Id_0556',\n",
              " 'Id_0559',\n",
              " 'Id_0560',\n",
              " 'Id_0561',\n",
              " 'Id_0563',\n",
              " 'Id_0564',\n",
              " 'Id_0565',\n",
              " 'Id_0566',\n",
              " 'Id_0567',\n",
              " 'Id_0568',\n",
              " 'Id_0569',\n",
              " 'Id_0570',\n",
              " 'Id_0571',\n",
              " 'Id_0572',\n",
              " 'Id_0573',\n",
              " 'Id_0575',\n",
              " 'Id_0576',\n",
              " 'Id_0577',\n",
              " 'Id_0579',\n",
              " 'Id_0580',\n",
              " 'Id_0581',\n",
              " 'Id_0582',\n",
              " 'Id_0583',\n",
              " 'Id_0585',\n",
              " 'Id_0586',\n",
              " 'Id_0587',\n",
              " 'Id_0588',\n",
              " 'Id_0589',\n",
              " 'Id_0590',\n",
              " 'Id_0591',\n",
              " 'Id_0593',\n",
              " 'Id_0594',\n",
              " 'Id_0596',\n",
              " 'Id_0597',\n",
              " 'Id_0598',\n",
              " 'Id_0599',\n",
              " 'Id_0600',\n",
              " 'Id_0602',\n",
              " 'Id_0603',\n",
              " 'Id_0607',\n",
              " 'Id_0608',\n",
              " 'Id_0609',\n",
              " 'Id_0610',\n",
              " 'Id_0611',\n",
              " 'Id_0612',\n",
              " 'Id_0614',\n",
              " 'Id_0615',\n",
              " 'Id_0618',\n",
              " 'Id_0619',\n",
              " 'Id_0623',\n",
              " 'Id_0628',\n",
              " 'Id_0629',\n",
              " 'Id_0630',\n",
              " 'Id_0631',\n",
              " 'Id_0633',\n",
              " 'Id_0634',\n",
              " 'Id_0635',\n",
              " 'Id_0636',\n",
              " 'Id_0637',\n",
              " 'Id_0638',\n",
              " 'Id_0639',\n",
              " 'Id_0641',\n",
              " 'Id_0642',\n",
              " 'Id_0643',\n",
              " 'Id_0644',\n",
              " 'Id_0645',\n",
              " 'Id_0646',\n",
              " 'Id_0647',\n",
              " 'Id_0650',\n",
              " 'Id_0653',\n",
              " 'Id_0655',\n",
              " 'Id_0656',\n",
              " 'Id_0657',\n",
              " 'Id_0658',\n",
              " 'Id_0659',\n",
              " 'Id_0660',\n",
              " 'Id_0661',\n",
              " 'Id_0663',\n",
              " 'Id_0664',\n",
              " 'Id_0665',\n",
              " 'Id_0668',\n",
              " 'Id_0669',\n",
              " 'Id_0671',\n",
              " 'Id_0672',\n",
              " 'Id_0674',\n",
              " 'Id_0677',\n",
              " 'Id_0678',\n",
              " 'Id_0679',\n",
              " 'Id_0680',\n",
              " 'Id_0682',\n",
              " 'Id_0683',\n",
              " 'Id_0684',\n",
              " 'Id_0685',\n",
              " 'Id_0686',\n",
              " 'Id_0687',\n",
              " 'Id_0688',\n",
              " 'Id_0689',\n",
              " 'Id_0690',\n",
              " 'Id_0691',\n",
              " 'Id_0693',\n",
              " 'Id_0696',\n",
              " 'Id_0697',\n",
              " 'Id_0699',\n",
              " 'Id_0701',\n",
              " 'Id_0702',\n",
              " 'Id_0703',\n",
              " 'Id_0704',\n",
              " 'Id_0705',\n",
              " 'Id_0707',\n",
              " 'Id_0709',\n",
              " 'Id_0710',\n",
              " 'Id_0712',\n",
              " 'Id_0713',\n",
              " 'Id_0714',\n",
              " 'Id_0715',\n",
              " 'Id_0718',\n",
              " 'Id_0719',\n",
              " 'Id_0724',\n",
              " 'Id_0726',\n",
              " 'Id_0727',\n",
              " 'Id_0728',\n",
              " 'Id_0729',\n",
              " 'Id_0732',\n",
              " 'Id_0733',\n",
              " 'Id_0734',\n",
              " 'Id_0736',\n",
              " 'Id_0737',\n",
              " 'Id_0738',\n",
              " 'Id_0740',\n",
              " 'Id_0743',\n",
              " 'Id_0746',\n",
              " 'Id_0750',\n",
              " 'Id_0753',\n",
              " 'Id_0754',\n",
              " 'Id_0756',\n",
              " 'Id_0757',\n",
              " 'Id_0761',\n",
              " 'Id_0762',\n",
              " 'Id_0764',\n",
              " 'Id_0765',\n",
              " 'Id_0767',\n",
              " 'Id_0768',\n",
              " 'Id_0769',\n",
              " 'Id_0770',\n",
              " 'Id_0771',\n",
              " 'Id_0772',\n",
              " 'Id_0773',\n",
              " 'Id_0776',\n",
              " 'Id_0777',\n",
              " 'Id_0779',\n",
              " 'Id_0781',\n",
              " 'Id_0782',\n",
              " 'Id_0784',\n",
              " 'Id_0785',\n",
              " 'Id_0786',\n",
              " 'Id_0787',\n",
              " 'Id_0788',\n",
              " 'Id_0789',\n",
              " 'Id_0790',\n",
              " 'Id_0791',\n",
              " 'Id_0793',\n",
              " 'Id_0794',\n",
              " 'Id_0795',\n",
              " 'Id_0796',\n",
              " 'Id_0797',\n",
              " 'Id_0798',\n",
              " 'Id_0799',\n",
              " 'Id_0802',\n",
              " 'Id_0805',\n",
              " 'Id_0806',\n",
              " 'Id_0808',\n",
              " 'Id_0809',\n",
              " 'Id_0811',\n",
              " 'Id_0813',\n",
              " 'Id_0815',\n",
              " 'Id_0816',\n",
              " 'Id_0817',\n",
              " 'Id_0818',\n",
              " 'Id_0819',\n",
              " 'Id_0820',\n",
              " 'Id_0822',\n",
              " 'Id_0823',\n",
              " 'Id_0824',\n",
              " 'Id_0825',\n",
              " 'Id_0826',\n",
              " 'Id_0828',\n",
              " 'Id_0829',\n",
              " 'Id_0830',\n",
              " 'Id_0833',\n",
              " 'Id_0834',\n",
              " 'Id_0835',\n",
              " 'Id_0836',\n",
              " 'Id_0839',\n",
              " 'Id_0840',\n",
              " 'Id_0845',\n",
              " 'Id_0846',\n",
              " 'Id_0848',\n",
              " 'Id_0849',\n",
              " 'Id_0850',\n",
              " 'Id_0851',\n",
              " 'Id_0853',\n",
              " 'Id_0859',\n",
              " 'Id_0860',\n",
              " 'Id_0863',\n",
              " 'Id_0865',\n",
              " 'Id_0867',\n",
              " 'Id_0868',\n",
              " 'Id_0869',\n",
              " 'Id_0870',\n",
              " 'Id_0871',\n",
              " 'Id_0873',\n",
              " 'Id_0874',\n",
              " 'Id_0875',\n",
              " 'Id_0876',\n",
              " 'Id_0877',\n",
              " 'Id_0878',\n",
              " 'Id_0879',\n",
              " 'Id_0881',\n",
              " 'Id_0883',\n",
              " 'Id_0885',\n",
              " 'Id_0889',\n",
              " 'Id_0890',\n",
              " 'Id_0893',\n",
              " 'Id_0898',\n",
              " 'Id_0899',\n",
              " 'Id_0901',\n",
              " 'Id_0902',\n",
              " 'Id_0903',\n",
              " 'Id_0904',\n",
              " 'Id_0905',\n",
              " 'Id_0906',\n",
              " 'Id_0907',\n",
              " 'Id_0910',\n",
              " 'Id_0911',\n",
              " 'Id_0912',\n",
              " 'Id_0913',\n",
              " 'Id_0915',\n",
              " 'Id_0918',\n",
              " 'Id_0919',\n",
              " 'Id_0921',\n",
              " 'Id_0922',\n",
              " 'Id_0923',\n",
              " 'Id_0924',\n",
              " 'Id_0925',\n",
              " 'Id_0926',\n",
              " 'Id_0927',\n",
              " 'Id_0928',\n",
              " 'Id_0930',\n",
              " 'Id_0931',\n",
              " 'Id_0932',\n",
              " 'Id_0933',\n",
              " 'Id_0935',\n",
              " 'Id_0938',\n",
              " 'Id_0939',\n",
              " 'Id_0940',\n",
              " 'Id_0941',\n",
              " 'Id_0942',\n",
              " 'Id_0944',\n",
              " 'Id_0946',\n",
              " 'Id_0947',\n",
              " 'Id_0949',\n",
              " 'Id_0951',\n",
              " 'Id_0952',\n",
              " 'Id_0953',\n",
              " 'Id_0955',\n",
              " 'Id_0956',\n",
              " 'Id_0957',\n",
              " 'Id_0960',\n",
              " 'Id_0961',\n",
              " 'Id_0964',\n",
              " 'Id_0965',\n",
              " 'Id_0966',\n",
              " 'Id_0968',\n",
              " 'Id_0969',\n",
              " 'Id_0970',\n",
              " 'Id_0971',\n",
              " 'Id_0972',\n",
              " 'Id_0975',\n",
              " 'Id_0976',\n",
              " 'Id_0978',\n",
              " 'Id_0979',\n",
              " 'Id_0982',\n",
              " 'Id_0983',\n",
              " 'Id_0984',\n",
              " 'Id_0985',\n",
              " 'Id_0987',\n",
              " 'Id_0988',\n",
              " 'Id_0989',\n",
              " 'Id_0990',\n",
              " 'Id_0991',\n",
              " 'Id_0992',\n",
              " 'Id_0993',\n",
              " 'Id_0994',\n",
              " 'Id_0995',\n",
              " 'Id_0997',\n",
              " 'Id_0998',\n",
              " 'Id_1000',\n",
              " 'Id_1001',\n",
              " 'Id_1002',\n",
              " 'Id_1004',\n",
              " 'Id_1005',\n",
              " 'Id_1006',\n",
              " 'Id_1008',\n",
              " 'Id_1011',\n",
              " 'Id_1012',\n",
              " 'Id_1013',\n",
              " 'Id_1014',\n",
              " 'Id_1015',\n",
              " 'Id_1017',\n",
              " 'Id_1018',\n",
              " 'Id_1019',\n",
              " 'Id_1020',\n",
              " 'Id_1022',\n",
              " 'Id_1024',\n",
              " 'Id_1025',\n",
              " 'Id_1026',\n",
              " 'Id_1027',\n",
              " 'Id_1029',\n",
              " 'Id_1030',\n",
              " 'Id_1031',\n",
              " 'Id_1032',\n",
              " 'Id_1033',\n",
              " 'Id_1034',\n",
              " 'Id_1035',\n",
              " 'Id_1036',\n",
              " 'Id_1038',\n",
              " 'Id_1040',\n",
              " 'Id_1041',\n",
              " 'Id_1043',\n",
              " 'Id_1045',\n",
              " 'Id_1046',\n",
              " 'Id_1047',\n",
              " 'Id_1048',\n",
              " 'Id_1049',\n",
              " 'Id_1051',\n",
              " 'Id_1052',\n",
              " 'Id_1053',\n",
              " 'Id_1054',\n",
              " 'Id_1056',\n",
              " 'Id_1057',\n",
              " 'Id_1058',\n",
              " 'Id_1060',\n",
              " 'Id_1062',\n",
              " 'Id_1063',\n",
              " 'Id_1065',\n",
              " 'Id_1066',\n",
              " 'Id_1068',\n",
              " 'Id_1071',\n",
              " 'Id_1075',\n",
              " 'Id_1076',\n",
              " 'Id_1077',\n",
              " 'Id_1078',\n",
              " 'Id_1079',\n",
              " 'Id_1080',\n",
              " 'Id_1082',\n",
              " 'Id_1083',\n",
              " 'Id_1084',\n",
              " 'Id_1085',\n",
              " 'Id_1086',\n",
              " 'Id_1088',\n",
              " 'Id_1089',\n",
              " 'Id_1091',\n",
              " 'Id_1093',\n",
              " 'Id_1094',\n",
              " 'Id_1095',\n",
              " 'Id_1096',\n",
              " 'Id_1097',\n",
              " 'Id_1099',\n",
              " 'Id_1100',\n",
              " 'Id_1102',\n",
              " 'Id_1105',\n",
              " 'Id_1108',\n",
              " 'Id_1110',\n",
              " 'Id_1112',\n",
              " 'Id_1113',\n",
              " 'Id_1114',\n",
              " 'Id_1115',\n",
              " 'Id_1116',\n",
              " 'Id_1117',\n",
              " 'Id_1121',\n",
              " 'Id_1123',\n",
              " 'Id_1127',\n",
              " 'Id_1129',\n",
              " 'Id_1130',\n",
              " 'Id_1132',\n",
              " 'Id_1133',\n",
              " 'Id_1134',\n",
              " 'Id_1136',\n",
              " 'Id_1140',\n",
              " 'Id_1141',\n",
              " 'Id_1142',\n",
              " 'Id_1144',\n",
              " 'Id_1146',\n",
              " 'Id_1147',\n",
              " 'Id_1148',\n",
              " 'Id_1149',\n",
              " 'Id_1150',\n",
              " 'Id_1152',\n",
              " 'Id_1153',\n",
              " 'Id_1154',\n",
              " 'Id_1155',\n",
              " 'Id_1156',\n",
              " 'Id_1161',\n",
              " 'Id_1162',\n",
              " 'Id_1163',\n",
              " 'Id_1165',\n",
              " 'Id_1166',\n",
              " 'Id_1167',\n",
              " 'Id_1168',\n",
              " 'Id_1169',\n",
              " 'Id_1170',\n",
              " 'Id_1173',\n",
              " 'Id_1174',\n",
              " 'Id_1175',\n",
              " 'Id_1177',\n",
              " 'Id_1178',\n",
              " 'Id_1179',\n",
              " 'Id_1180',\n",
              " 'Id_1182',\n",
              " 'Id_1185',\n",
              " 'Id_1186',\n",
              " 'Id_1187',\n",
              " 'Id_1188',\n",
              " 'Id_1190',\n",
              " 'Id_1191',\n",
              " 'Id_1192',\n",
              " 'Id_1193',\n",
              " 'Id_1195',\n",
              " 'Id_1197',\n",
              " 'Id_1198',\n",
              " 'Id_1199',\n",
              " 'Id_1203',\n",
              " 'Id_1206',\n",
              " 'Id_1208',\n",
              " 'Id_1210',\n",
              " 'Id_1211',\n",
              " 'Id_1212',\n",
              " 'Id_1213',\n",
              " 'Id_1214',\n",
              " 'Id_1215',\n",
              " 'Id_1216',\n",
              " 'Id_1218',\n",
              " 'Id_1220',\n",
              " 'Id_1221',\n",
              " 'Id_1222',\n",
              " 'Id_1223',\n",
              " 'Id_1225',\n",
              " 'Id_1228',\n",
              " 'Id_1229',\n",
              " 'Id_1230',\n",
              " 'Id_1231',\n",
              " 'Id_1232',\n",
              " 'Id_1233',\n",
              " 'Id_1234',\n",
              " 'Id_1235',\n",
              " 'Id_1236',\n",
              " 'Id_1238',\n",
              " 'Id_1239',\n",
              " 'Id_1240',\n",
              " 'Id_1242',\n",
              " 'Id_1243',\n",
              " 'Id_1246',\n",
              " 'Id_1248',\n",
              " 'Id_1250',\n",
              " 'Id_1254',\n",
              " 'Id_1255',\n",
              " 'Id_1256',\n",
              " 'Id_1258',\n",
              " 'Id_1259',\n",
              " 'Id_1260',\n",
              " 'Id_1261',\n",
              " 'Id_1263',\n",
              " 'Id_1264',\n",
              " 'Id_1267',\n",
              " 'Id_1269',\n",
              " 'Id_1271',\n",
              " 'Id_1273',\n",
              " 'Id_1274',\n",
              " 'Id_1278',\n",
              " 'Id_1279',\n",
              " 'Id_1280',\n",
              " 'Id_1281',\n",
              " 'Id_1282',\n",
              " 'Id_1283',\n",
              " 'Id_1284',\n",
              " 'Id_1285',\n",
              " 'Id_1286',\n",
              " 'Id_1287',\n",
              " 'Id_1288',\n",
              " 'Id_1289',\n",
              " 'Id_1291',\n",
              " 'Id_1292',\n",
              " 'Id_1293',\n",
              " 'Id_1294',\n",
              " 'Id_1295',\n",
              " 'Id_1299',\n",
              " 'Id_1300',\n",
              " 'Id_1302',\n",
              " 'Id_1304',\n",
              " 'Id_1306',\n",
              " 'Id_1307',\n",
              " 'Id_1308',\n",
              " 'Id_1309',\n",
              " 'Id_1310',\n",
              " 'Id_1311',\n",
              " 'Id_1312',\n",
              " 'Id_1316',\n",
              " 'Id_1317',\n",
              " 'Id_1322',\n",
              " 'Id_1323',\n",
              " 'Id_1324',\n",
              " 'Id_1325',\n",
              " 'Id_1326',\n",
              " 'Id_1328',\n",
              " 'Id_1330',\n",
              " 'Id_1331',\n",
              " 'Id_1332',\n",
              " 'Id_1333',\n",
              " 'Id_1335',\n",
              " 'Id_1336',\n",
              " 'Id_1337',\n",
              " 'Id_1340',\n",
              " 'Id_1342',\n",
              " 'Id_1345',\n",
              " 'Id_1347',\n",
              " 'Id_1348',\n",
              " 'Id_1350',\n",
              " 'Id_1351',\n",
              " 'Id_1352',\n",
              " 'Id_1353',\n",
              " 'Id_1355',\n",
              " 'Id_1356',\n",
              " 'Id_1357',\n",
              " 'Id_1360',\n",
              " 'Id_1362',\n",
              " 'Id_1365',\n",
              " 'Id_1366',\n",
              " 'Id_1368',\n",
              " 'Id_1370',\n",
              " 'Id_1371',\n",
              " 'Id_1375',\n",
              " 'Id_1376',\n",
              " 'Id_1377',\n",
              " 'Id_1378',\n",
              " 'Id_1379',\n",
              " 'Id_1380',\n",
              " 'Id_1381',\n",
              " 'Id_1382',\n",
              " 'Id_1383',\n",
              " 'Id_1384',\n",
              " 'Id_1385',\n",
              " 'Id_1386',\n",
              " 'Id_1387',\n",
              " 'Id_1389',\n",
              " 'Id_1390',\n",
              " 'Id_1391',\n",
              " 'Id_1393',\n",
              " 'Id_1395',\n",
              " 'Id_1397',\n",
              " 'Id_1398',\n",
              " 'Id_1399',\n",
              " 'Id_1400',\n",
              " 'Id_1401',\n",
              " 'Id_1402',\n",
              " 'Id_1403',\n",
              " 'Id_1404',\n",
              " 'Id_1406',\n",
              " 'Id_1407',\n",
              " 'Id_1408',\n",
              " 'Id_1410',\n",
              " 'Id_1412',\n",
              " 'Id_1413',\n",
              " 'Id_1414',\n",
              " 'Id_1415',\n",
              " 'Id_1416',\n",
              " 'Id_1417',\n",
              " 'Id_1419',\n",
              " 'Id_1420',\n",
              " 'Id_1421',\n",
              " 'Id_1423',\n",
              " 'Id_1424',\n",
              " 'Id_1425',\n",
              " 'Id_1426',\n",
              " 'Id_1427',\n",
              " 'Id_1428',\n",
              " 'Id_1430',\n",
              " 'Id_1431',\n",
              " 'Id_1433',\n",
              " 'Id_1434',\n",
              " 'Id_1435',\n",
              " 'Id_1438',\n",
              " 'Id_1439',\n",
              " 'Id_1440',\n",
              " 'Id_1442',\n",
              " 'Id_1443',\n",
              " 'Id_1444',\n",
              " 'Id_1445',\n",
              " 'Id_1447',\n",
              " 'Id_1450',\n",
              " 'Id_1451',\n",
              " 'Id_1452',\n",
              " 'Id_1453',\n",
              " 'Id_1454',\n",
              " 'Id_1455',\n",
              " 'Id_1457',\n",
              " 'Id_1458',\n",
              " 'Id_1460',\n",
              " 'Id_1461',\n",
              " 'Id_1462',\n",
              " 'Id_1463',\n",
              " 'Id_1465',\n",
              " 'Id_1467',\n",
              " 'Id_1474',\n",
              " 'Id_1478',\n",
              " 'Id_1479',\n",
              " 'Id_1481',\n",
              " 'Id_1484',\n",
              " 'Id_1485',\n",
              " 'Id_1488',\n",
              " 'Id_1489',\n",
              " 'Id_1490',\n",
              " 'Id_1491',\n",
              " 'Id_1493',\n",
              " 'Id_1498',\n",
              " 'Id_1499',\n",
              " 'Id_1500',\n",
              " 'Id_1501',\n",
              " 'Id_1503',\n",
              " 'Id_1506',\n",
              " 'Id_1507',\n",
              " ...]"
            ]
          },
          "metadata": {},
          "execution_count": 53
        }
      ]
    },
    {
      "cell_type": "code",
      "source": [
        "trainset = trainset.drop(columns=non_testcols)\n",
        "trainset.shape"
      ],
      "metadata": {
        "colab": {
          "base_uri": "https://localhost:8080/"
        },
        "id": "5xihGRNB3Nea",
        "outputId": "86088241-f8b3-4bca-a506-c7c69d3f13d0"
      },
      "execution_count": null,
      "outputs": [
        {
          "output_type": "execute_result",
          "data": {
            "text/plain": [
              "(8693, 4944)"
            ]
          },
          "metadata": {},
          "execution_count": 54
        }
      ]
    },
    {
      "cell_type": "markdown",
      "source": [
        "Now need to add in cols in test that are not in train."
      ],
      "metadata": {
        "id": "VOYamhoV3eUf"
      }
    },
    {
      "cell_type": "code",
      "source": [
        "non_traincols = testset.columns[~testset.columns.isin(traincols)]\n",
        "non_traincols = list(non_traincols)\n",
        "len(non_traincols)\n"
      ],
      "metadata": {
        "colab": {
          "base_uri": "https://localhost:8080/"
        },
        "id": "qYC35WCb3joR",
        "outputId": "4069b0d7-8771-448f-9d52-36c9a0c2f1b1"
      },
      "execution_count": null,
      "outputs": [
        {
          "output_type": "execute_result",
          "data": {
            "text/plain": [
              "3505"
            ]
          },
          "metadata": {},
          "execution_count": 55
        }
      ]
    },
    {
      "cell_type": "markdown",
      "source": [
        "Add to existing dataframe"
      ],
      "metadata": {
        "id": "N0qVBitQ369o"
      }
    },
    {
      "cell_type": "code",
      "source": [
        "trainset = trainset.reindex(columns = trainset.columns.tolist() + non_traincols)\n",
        "trainset.shape\n",
        " "
      ],
      "metadata": {
        "colab": {
          "base_uri": "https://localhost:8080/"
        },
        "id": "eaGEld_d34CB",
        "outputId": "b557ddf0-4c0c-494f-e4b2-4280a10a4bb5"
      },
      "execution_count": null,
      "outputs": [
        {
          "output_type": "execute_result",
          "data": {
            "text/plain": [
              "(8693, 8449)"
            ]
          },
          "metadata": {},
          "execution_count": 56
        }
      ]
    },
    {
      "cell_type": "code",
      "source": [
        "trainset['Transported']"
      ],
      "metadata": {
        "colab": {
          "base_uri": "https://localhost:8080/"
        },
        "id": "aV8TrYSlMRio",
        "outputId": "b22e0337-0735-4ada-8879-0e961a3aed8b"
      },
      "execution_count": null,
      "outputs": [
        {
          "output_type": "execute_result",
          "data": {
            "text/plain": [
              "0       False\n",
              "1        True\n",
              "2       False\n",
              "3       False\n",
              "4        True\n",
              "        ...  \n",
              "8688    False\n",
              "8689    False\n",
              "8690     True\n",
              "8691    False\n",
              "8692     True\n",
              "Name: Transported, Length: 8693, dtype: bool"
            ]
          },
          "metadata": {},
          "execution_count": 57
        }
      ]
    },
    {
      "cell_type": "code",
      "source": [
        "trainset = trainset.fillna(0)"
      ],
      "metadata": {
        "id": "UHMlZVGi4VKa"
      },
      "execution_count": null,
      "outputs": []
    },
    {
      "cell_type": "markdown",
      "source": [
        "Feature scale Age, RoomService, FoodCourt, ShoppingMall, Spa, VRDeck"
      ],
      "metadata": {
        "id": "gMWGpJt7S8T5"
      }
    },
    {
      "cell_type": "code",
      "source": [
        "fs_cols = ['Age', 'RoomService', 'FoodCourt', 'ShoppingMall', 'Spa', 'VRDeck']"
      ],
      "metadata": {
        "id": "OuWII_AjTVeT"
      },
      "execution_count": null,
      "outputs": []
    },
    {
      "cell_type": "code",
      "source": [
        "from sklearn.preprocessing import StandardScaler\n",
        "sc = StandardScaler()\n",
        "trainset[fs_cols] = sc.fit_transform(trainset[fs_cols])\n",
        "testset[fs_cols] = sc.fit_transform(testset[fs_cols])\n"
      ],
      "metadata": {
        "id": "-JLy-tGvZytX"
      },
      "execution_count": null,
      "outputs": []
    },
    {
      "cell_type": "code",
      "source": [
        "target = list(trainset)\n",
        "\n",
        "\n",
        "target.remove('Transported')\n",
        "X = trainset[target].values\n",
        "y = trainset['Transported'].values\n"
      ],
      "metadata": {
        "id": "NLyzmNrqCq_s"
      },
      "execution_count": null,
      "outputs": []
    },
    {
      "cell_type": "code",
      "source": [
        "y"
      ],
      "metadata": {
        "colab": {
          "base_uri": "https://localhost:8080/"
        },
        "id": "sdxXV0oOMeG-",
        "outputId": "1998f536-8dfe-4dd8-d638-abf84c6126d5"
      },
      "execution_count": null,
      "outputs": [
        {
          "output_type": "execute_result",
          "data": {
            "text/plain": [
              "array([False,  True, False, ...,  True, False,  True])"
            ]
          },
          "metadata": {},
          "execution_count": 62
        }
      ]
    },
    {
      "cell_type": "code",
      "source": [
        "trainset['Transported']"
      ],
      "metadata": {
        "colab": {
          "base_uri": "https://localhost:8080/"
        },
        "id": "rr9U0kOZPevf",
        "outputId": "ea783d37-8c57-4fd6-9ae8-7704154bd49a"
      },
      "execution_count": null,
      "outputs": [
        {
          "output_type": "execute_result",
          "data": {
            "text/plain": [
              "0       False\n",
              "1        True\n",
              "2       False\n",
              "3       False\n",
              "4        True\n",
              "        ...  \n",
              "8688    False\n",
              "8689    False\n",
              "8690     True\n",
              "8691    False\n",
              "8692     True\n",
              "Name: Transported, Length: 8693, dtype: bool"
            ]
          },
          "metadata": {},
          "execution_count": 63
        }
      ]
    },
    {
      "cell_type": "code",
      "source": [
        "trainset.head()"
      ],
      "metadata": {
        "colab": {
          "base_uri": "https://localhost:8080/",
          "height": 299
        },
        "id": "lWC4FGKzZb6q",
        "outputId": "a66fd0a2-5836-48df-c559-c58e90119fa6"
      },
      "execution_count": null,
      "outputs": [
        {
          "output_type": "execute_result",
          "data": {
            "text/plain": [
              "        Age  RoomService  FoodCourt  ShoppingMall       Spa    VRDeck  \\\n",
              "0  0.721984    -0.333105  -0.281027     -0.283579 -0.270626 -0.263003   \n",
              "1 -0.283969    -0.168073  -0.275387     -0.241771  0.217158 -0.224205   \n",
              "2  1.996191    -0.268001   1.959998     -0.283579  5.695623 -0.219796   \n",
              "3  0.319603    -0.333105   0.523010      0.336851  2.687176 -0.092818   \n",
              "4 -0.820477     0.125652  -0.237159     -0.031059  0.231374 -0.261240   \n",
              "\n",
              "   Transported  HomePlanet_Earth  HomePlanet_Europa  HomePlanet_Mars  ...  \\\n",
              "0        False                 0                  1                0  ...   \n",
              "1         True                 1                  0                0  ...   \n",
              "2        False                 0                  1                0  ...   \n",
              "3        False                 0                  1                0  ...   \n",
              "4         True                 1                  0                0  ...   \n",
              "\n",
              "   CabinNum_1874  CabinNum_1879  CabinNum_1881  CabinNum_1882  CabinNum_1883  \\\n",
              "0            0.0            0.0            0.0            0.0            0.0   \n",
              "1            0.0            0.0            0.0            0.0            0.0   \n",
              "2            0.0            0.0            0.0            0.0            0.0   \n",
              "3            0.0            0.0            0.0            0.0            0.0   \n",
              "4            0.0            0.0            0.0            0.0            0.0   \n",
              "\n",
              "   CabinNum_1885  CabinNum_1887  CabinNum_1890  CabinNum_628  CabinNum_909  \n",
              "0            0.0            0.0            0.0           0.0           0.0  \n",
              "1            0.0            0.0            0.0           0.0           0.0  \n",
              "2            0.0            0.0            0.0           0.0           0.0  \n",
              "3            0.0            0.0            0.0           0.0           0.0  \n",
              "4            0.0            0.0            0.0           0.0           0.0  \n",
              "\n",
              "[5 rows x 8449 columns]"
            ],
            "text/html": [
              "\n",
              "  <div id=\"df-9c3d48c3-6a0e-48ac-9926-a01d89f9714f\">\n",
              "    <div class=\"colab-df-container\">\n",
              "      <div>\n",
              "<style scoped>\n",
              "    .dataframe tbody tr th:only-of-type {\n",
              "        vertical-align: middle;\n",
              "    }\n",
              "\n",
              "    .dataframe tbody tr th {\n",
              "        vertical-align: top;\n",
              "    }\n",
              "\n",
              "    .dataframe thead th {\n",
              "        text-align: right;\n",
              "    }\n",
              "</style>\n",
              "<table border=\"1\" class=\"dataframe\">\n",
              "  <thead>\n",
              "    <tr style=\"text-align: right;\">\n",
              "      <th></th>\n",
              "      <th>Age</th>\n",
              "      <th>RoomService</th>\n",
              "      <th>FoodCourt</th>\n",
              "      <th>ShoppingMall</th>\n",
              "      <th>Spa</th>\n",
              "      <th>VRDeck</th>\n",
              "      <th>Transported</th>\n",
              "      <th>HomePlanet_Earth</th>\n",
              "      <th>HomePlanet_Europa</th>\n",
              "      <th>HomePlanet_Mars</th>\n",
              "      <th>...</th>\n",
              "      <th>CabinNum_1874</th>\n",
              "      <th>CabinNum_1879</th>\n",
              "      <th>CabinNum_1881</th>\n",
              "      <th>CabinNum_1882</th>\n",
              "      <th>CabinNum_1883</th>\n",
              "      <th>CabinNum_1885</th>\n",
              "      <th>CabinNum_1887</th>\n",
              "      <th>CabinNum_1890</th>\n",
              "      <th>CabinNum_628</th>\n",
              "      <th>CabinNum_909</th>\n",
              "    </tr>\n",
              "  </thead>\n",
              "  <tbody>\n",
              "    <tr>\n",
              "      <th>0</th>\n",
              "      <td>0.721984</td>\n",
              "      <td>-0.333105</td>\n",
              "      <td>-0.281027</td>\n",
              "      <td>-0.283579</td>\n",
              "      <td>-0.270626</td>\n",
              "      <td>-0.263003</td>\n",
              "      <td>False</td>\n",
              "      <td>0</td>\n",
              "      <td>1</td>\n",
              "      <td>0</td>\n",
              "      <td>...</td>\n",
              "      <td>0.0</td>\n",
              "      <td>0.0</td>\n",
              "      <td>0.0</td>\n",
              "      <td>0.0</td>\n",
              "      <td>0.0</td>\n",
              "      <td>0.0</td>\n",
              "      <td>0.0</td>\n",
              "      <td>0.0</td>\n",
              "      <td>0.0</td>\n",
              "      <td>0.0</td>\n",
              "    </tr>\n",
              "    <tr>\n",
              "      <th>1</th>\n",
              "      <td>-0.283969</td>\n",
              "      <td>-0.168073</td>\n",
              "      <td>-0.275387</td>\n",
              "      <td>-0.241771</td>\n",
              "      <td>0.217158</td>\n",
              "      <td>-0.224205</td>\n",
              "      <td>True</td>\n",
              "      <td>1</td>\n",
              "      <td>0</td>\n",
              "      <td>0</td>\n",
              "      <td>...</td>\n",
              "      <td>0.0</td>\n",
              "      <td>0.0</td>\n",
              "      <td>0.0</td>\n",
              "      <td>0.0</td>\n",
              "      <td>0.0</td>\n",
              "      <td>0.0</td>\n",
              "      <td>0.0</td>\n",
              "      <td>0.0</td>\n",
              "      <td>0.0</td>\n",
              "      <td>0.0</td>\n",
              "    </tr>\n",
              "    <tr>\n",
              "      <th>2</th>\n",
              "      <td>1.996191</td>\n",
              "      <td>-0.268001</td>\n",
              "      <td>1.959998</td>\n",
              "      <td>-0.283579</td>\n",
              "      <td>5.695623</td>\n",
              "      <td>-0.219796</td>\n",
              "      <td>False</td>\n",
              "      <td>0</td>\n",
              "      <td>1</td>\n",
              "      <td>0</td>\n",
              "      <td>...</td>\n",
              "      <td>0.0</td>\n",
              "      <td>0.0</td>\n",
              "      <td>0.0</td>\n",
              "      <td>0.0</td>\n",
              "      <td>0.0</td>\n",
              "      <td>0.0</td>\n",
              "      <td>0.0</td>\n",
              "      <td>0.0</td>\n",
              "      <td>0.0</td>\n",
              "      <td>0.0</td>\n",
              "    </tr>\n",
              "    <tr>\n",
              "      <th>3</th>\n",
              "      <td>0.319603</td>\n",
              "      <td>-0.333105</td>\n",
              "      <td>0.523010</td>\n",
              "      <td>0.336851</td>\n",
              "      <td>2.687176</td>\n",
              "      <td>-0.092818</td>\n",
              "      <td>False</td>\n",
              "      <td>0</td>\n",
              "      <td>1</td>\n",
              "      <td>0</td>\n",
              "      <td>...</td>\n",
              "      <td>0.0</td>\n",
              "      <td>0.0</td>\n",
              "      <td>0.0</td>\n",
              "      <td>0.0</td>\n",
              "      <td>0.0</td>\n",
              "      <td>0.0</td>\n",
              "      <td>0.0</td>\n",
              "      <td>0.0</td>\n",
              "      <td>0.0</td>\n",
              "      <td>0.0</td>\n",
              "    </tr>\n",
              "    <tr>\n",
              "      <th>4</th>\n",
              "      <td>-0.820477</td>\n",
              "      <td>0.125652</td>\n",
              "      <td>-0.237159</td>\n",
              "      <td>-0.031059</td>\n",
              "      <td>0.231374</td>\n",
              "      <td>-0.261240</td>\n",
              "      <td>True</td>\n",
              "      <td>1</td>\n",
              "      <td>0</td>\n",
              "      <td>0</td>\n",
              "      <td>...</td>\n",
              "      <td>0.0</td>\n",
              "      <td>0.0</td>\n",
              "      <td>0.0</td>\n",
              "      <td>0.0</td>\n",
              "      <td>0.0</td>\n",
              "      <td>0.0</td>\n",
              "      <td>0.0</td>\n",
              "      <td>0.0</td>\n",
              "      <td>0.0</td>\n",
              "      <td>0.0</td>\n",
              "    </tr>\n",
              "  </tbody>\n",
              "</table>\n",
              "<p>5 rows × 8449 columns</p>\n",
              "</div>\n",
              "      <button class=\"colab-df-convert\" onclick=\"convertToInteractive('df-9c3d48c3-6a0e-48ac-9926-a01d89f9714f')\"\n",
              "              title=\"Convert this dataframe to an interactive table.\"\n",
              "              style=\"display:none;\">\n",
              "        \n",
              "  <svg xmlns=\"http://www.w3.org/2000/svg\" height=\"24px\"viewBox=\"0 0 24 24\"\n",
              "       width=\"24px\">\n",
              "    <path d=\"M0 0h24v24H0V0z\" fill=\"none\"/>\n",
              "    <path d=\"M18.56 5.44l.94 2.06.94-2.06 2.06-.94-2.06-.94-.94-2.06-.94 2.06-2.06.94zm-11 1L8.5 8.5l.94-2.06 2.06-.94-2.06-.94L8.5 2.5l-.94 2.06-2.06.94zm10 10l.94 2.06.94-2.06 2.06-.94-2.06-.94-.94-2.06-.94 2.06-2.06.94z\"/><path d=\"M17.41 7.96l-1.37-1.37c-.4-.4-.92-.59-1.43-.59-.52 0-1.04.2-1.43.59L10.3 9.45l-7.72 7.72c-.78.78-.78 2.05 0 2.83L4 21.41c.39.39.9.59 1.41.59.51 0 1.02-.2 1.41-.59l7.78-7.78 2.81-2.81c.8-.78.8-2.07 0-2.86zM5.41 20L4 18.59l7.72-7.72 1.47 1.35L5.41 20z\"/>\n",
              "  </svg>\n",
              "      </button>\n",
              "      \n",
              "  <style>\n",
              "    .colab-df-container {\n",
              "      display:flex;\n",
              "      flex-wrap:wrap;\n",
              "      gap: 12px;\n",
              "    }\n",
              "\n",
              "    .colab-df-convert {\n",
              "      background-color: #E8F0FE;\n",
              "      border: none;\n",
              "      border-radius: 50%;\n",
              "      cursor: pointer;\n",
              "      display: none;\n",
              "      fill: #1967D2;\n",
              "      height: 32px;\n",
              "      padding: 0 0 0 0;\n",
              "      width: 32px;\n",
              "    }\n",
              "\n",
              "    .colab-df-convert:hover {\n",
              "      background-color: #E2EBFA;\n",
              "      box-shadow: 0px 1px 2px rgba(60, 64, 67, 0.3), 0px 1px 3px 1px rgba(60, 64, 67, 0.15);\n",
              "      fill: #174EA6;\n",
              "    }\n",
              "\n",
              "    [theme=dark] .colab-df-convert {\n",
              "      background-color: #3B4455;\n",
              "      fill: #D2E3FC;\n",
              "    }\n",
              "\n",
              "    [theme=dark] .colab-df-convert:hover {\n",
              "      background-color: #434B5C;\n",
              "      box-shadow: 0px 1px 3px 1px rgba(0, 0, 0, 0.15);\n",
              "      filter: drop-shadow(0px 1px 2px rgba(0, 0, 0, 0.3));\n",
              "      fill: #FFFFFF;\n",
              "    }\n",
              "  </style>\n",
              "\n",
              "      <script>\n",
              "        const buttonEl =\n",
              "          document.querySelector('#df-9c3d48c3-6a0e-48ac-9926-a01d89f9714f button.colab-df-convert');\n",
              "        buttonEl.style.display =\n",
              "          google.colab.kernel.accessAllowed ? 'block' : 'none';\n",
              "\n",
              "        async function convertToInteractive(key) {\n",
              "          const element = document.querySelector('#df-9c3d48c3-6a0e-48ac-9926-a01d89f9714f');\n",
              "          const dataTable =\n",
              "            await google.colab.kernel.invokeFunction('convertToInteractive',\n",
              "                                                     [key], {});\n",
              "          if (!dataTable) return;\n",
              "\n",
              "          const docLinkHtml = 'Like what you see? Visit the ' +\n",
              "            '<a target=\"_blank\" href=https://colab.research.google.com/notebooks/data_table.ipynb>data table notebook</a>'\n",
              "            + ' to learn more about interactive tables.';\n",
              "          element.innerHTML = '';\n",
              "          dataTable['output_type'] = 'display_data';\n",
              "          await google.colab.output.renderOutput(dataTable, element);\n",
              "          const docLink = document.createElement('div');\n",
              "          docLink.innerHTML = docLinkHtml;\n",
              "          element.appendChild(docLink);\n",
              "        }\n",
              "      </script>\n",
              "    </div>\n",
              "  </div>\n",
              "  "
            ]
          },
          "metadata": {},
          "execution_count": 64
        }
      ]
    },
    {
      "cell_type": "markdown",
      "metadata": {
        "id": "YvxIPVyMhmKp"
      },
      "source": [
        "## Splitting the dataset into the Training set and Test set"
      ]
    },
    {
      "cell_type": "code",
      "metadata": {
        "id": "AVzJWAXIhxoC"
      },
      "source": [
        "from sklearn.model_selection import train_test_split\n",
        "X_train, X_test, y_train, y_test = train_test_split(X, y, test_size = 0.25, random_state = 0)"
      ],
      "execution_count": null,
      "outputs": []
    },
    {
      "cell_type": "code",
      "metadata": {
        "id": "P3nS3-6r1i2B",
        "outputId": "c2032851-9e35-4bae-c224-22b48ce02d72",
        "colab": {
          "base_uri": "https://localhost:8080/"
        }
      },
      "source": [
        "print(X_train)"
      ],
      "execution_count": null,
      "outputs": [
        {
          "output_type": "stream",
          "name": "stdout",
          "text": [
            "[[ 0.5878571  -0.33310466 -0.28102673 ...  0.          0.\n",
            "   0.        ]\n",
            " [ 1.05730188 -0.33310466 -0.28102673 ...  0.          0.\n",
            "   0.        ]\n",
            " [-0.0827783  -0.05754793 -0.28102673 ...  0.          0.\n",
            "   0.        ]\n",
            " ...\n",
            " [ 0.05134878  0.45874243 -0.28102673 ...  0.          0.\n",
            "   0.        ]\n",
            " [-1.89349388 -0.33310466 -0.28102673 ...  0.          0.\n",
            "   0.        ]\n",
            " [ 1.12436542 -0.33310466 -0.27538657 ...  0.          0.\n",
            "   0.        ]]\n"
          ]
        }
      ]
    },
    {
      "cell_type": "code",
      "metadata": {
        "id": "8dpDLojm1mVG",
        "outputId": "63497117-c0cf-4e78-8e73-d39aac8d5dce",
        "colab": {
          "base_uri": "https://localhost:8080/"
        }
      },
      "source": [
        "print(y_train)"
      ],
      "execution_count": null,
      "outputs": [
        {
          "output_type": "stream",
          "name": "stdout",
          "text": [
            "[ True  True False ... False False False]\n"
          ]
        }
      ]
    },
    {
      "cell_type": "code",
      "metadata": {
        "id": "qbb7i0DH1qui",
        "outputId": "0779be35-a100-4299-ee1e-f04e6969202b",
        "colab": {
          "base_uri": "https://localhost:8080/"
        }
      },
      "source": [
        "print(X_test)"
      ],
      "execution_count": null,
      "outputs": [
        {
          "output_type": "stream",
          "name": "stdout",
          "text": [
            "[[-0.82047724 -0.33310466 -0.28102673 ...  0.          0.\n",
            "   0.        ]\n",
            " [-1.7593668  -0.33310466 -0.28102673 ...  0.          0.\n",
            "   0.        ]\n",
            " [ 0.18547586  0.44965814 -0.28040005 ...  0.          0.\n",
            "   0.        ]\n",
            " ...\n",
            " [ 0.31960294 -0.33310466 -0.28102673 ...  0.          0.\n",
            "   0.        ]\n",
            " [ 0.31960294 -0.33310466 -0.28102673 ...  0.          0.\n",
            "   0.        ]\n",
            " [-1.22285848 -0.33310466 -0.28102673 ...  0.          0.\n",
            "   0.        ]]\n"
          ]
        }
      ]
    },
    {
      "cell_type": "code",
      "metadata": {
        "id": "kj1hnFAR1s5w",
        "outputId": "198fd67b-0f08-4dfa-813f-f76275ca1b1c",
        "colab": {
          "base_uri": "https://localhost:8080/"
        }
      },
      "source": [
        "print(y_test)"
      ],
      "execution_count": null,
      "outputs": [
        {
          "output_type": "stream",
          "name": "stdout",
          "text": [
            "[ True  True False ...  True  True  True]\n"
          ]
        }
      ]
    },
    {
      "cell_type": "code",
      "metadata": {
        "id": "syrnD1Op2BSR",
        "outputId": "6a78027f-7dc7-419b-f4e5-cacc1a96ce4d",
        "colab": {
          "base_uri": "https://localhost:8080/"
        }
      },
      "source": [
        "print(X_train)"
      ],
      "execution_count": null,
      "outputs": [
        {
          "output_type": "stream",
          "name": "stdout",
          "text": [
            "[[ 0.5878571  -0.33310466 -0.28102673 ...  0.          0.\n",
            "   0.        ]\n",
            " [ 1.05730188 -0.33310466 -0.28102673 ...  0.          0.\n",
            "   0.        ]\n",
            " [-0.0827783  -0.05754793 -0.28102673 ...  0.          0.\n",
            "   0.        ]\n",
            " ...\n",
            " [ 0.05134878  0.45874243 -0.28102673 ...  0.          0.\n",
            "   0.        ]\n",
            " [-1.89349388 -0.33310466 -0.28102673 ...  0.          0.\n",
            "   0.        ]\n",
            " [ 1.12436542 -0.33310466 -0.27538657 ...  0.          0.\n",
            "   0.        ]]\n"
          ]
        }
      ]
    },
    {
      "cell_type": "code",
      "metadata": {
        "id": "JUd6iBRp2C3L",
        "outputId": "6010a309-79d9-494e-8dab-4d09b7d93d55",
        "colab": {
          "base_uri": "https://localhost:8080/"
        }
      },
      "source": [
        "print(X_test)"
      ],
      "execution_count": null,
      "outputs": [
        {
          "output_type": "stream",
          "name": "stdout",
          "text": [
            "[[-0.82047724 -0.33310466 -0.28102673 ...  0.          0.\n",
            "   0.        ]\n",
            " [-1.7593668  -0.33310466 -0.28102673 ...  0.          0.\n",
            "   0.        ]\n",
            " [ 0.18547586  0.44965814 -0.28040005 ...  0.          0.\n",
            "   0.        ]\n",
            " ...\n",
            " [ 0.31960294 -0.33310466 -0.28102673 ...  0.          0.\n",
            "   0.        ]\n",
            " [ 0.31960294 -0.33310466 -0.28102673 ...  0.          0.\n",
            "   0.        ]\n",
            " [-1.22285848 -0.33310466 -0.28102673 ...  0.          0.\n",
            "   0.        ]]\n"
          ]
        }
      ]
    },
    {
      "cell_type": "markdown",
      "metadata": {
        "id": "bb6jCOCQiAmP"
      },
      "source": [
        "## Training the Kernel SVM model on the Training set"
      ]
    },
    {
      "cell_type": "code",
      "metadata": {
        "id": "e0pFVAmciHQs",
        "outputId": "d278073d-c44a-455d-a6b4-a4ce9ee02e8f",
        "colab": {
          "base_uri": "https://localhost:8080/"
        }
      },
      "source": [
        "from sklearn.svm import SVC\n",
        "classifier = SVC(kernel = 'rbf', C = 0.75, gamma= 0.1, random_state = 0)\n",
        "\n",
        "classifier.fit(X_train, y_train)"
      ],
      "execution_count": null,
      "outputs": [
        {
          "output_type": "execute_result",
          "data": {
            "text/plain": [
              "SVC(C=0.75, gamma=0.1, random_state=0)"
            ]
          },
          "metadata": {},
          "execution_count": 72
        }
      ]
    },
    {
      "cell_type": "markdown",
      "metadata": {
        "id": "vKYVQH-l5NpE"
      },
      "source": [
        "## Predicting the Test set results"
      ]
    },
    {
      "cell_type": "code",
      "metadata": {
        "id": "p6VMTb2O4hwM",
        "colab": {
          "base_uri": "https://localhost:8080/"
        },
        "outputId": "2fb300cd-b008-47d6-b865-335d17d45051"
      },
      "source": [
        "y_pred = classifier.predict(X_test)\n",
        "print(np.concatenate((y_pred.reshape(len(y_pred),1), y_test.reshape(len(y_test),1)),1))"
      ],
      "execution_count": null,
      "outputs": [
        {
          "output_type": "stream",
          "name": "stdout",
          "text": [
            "[[False  True]\n",
            " [ True  True]\n",
            " [False False]\n",
            " ...\n",
            " [ True  True]\n",
            " [ True  True]\n",
            " [ True  True]]\n"
          ]
        }
      ]
    },
    {
      "cell_type": "markdown",
      "metadata": {
        "id": "h4Hwj34ziWQW"
      },
      "source": [
        "## Making the Confusion Matrix"
      ]
    },
    {
      "cell_type": "code",
      "metadata": {
        "id": "D6bpZwUiiXic",
        "colab": {
          "base_uri": "https://localhost:8080/"
        },
        "outputId": "8e3aad9b-0959-4d45-9331-d32d0bf1b4cf"
      },
      "source": [
        "from sklearn.metrics import confusion_matrix, accuracy_score\n",
        "cm = confusion_matrix(y_test, y_pred)\n",
        "print(cm)\n",
        "accuracy_score(y_test, y_pred)"
      ],
      "execution_count": null,
      "outputs": [
        {
          "output_type": "stream",
          "name": "stdout",
          "text": [
            "[[829 248]\n",
            " [192 905]]\n"
          ]
        },
        {
          "output_type": "execute_result",
          "data": {
            "text/plain": [
              "0.797608095676173"
            ]
          },
          "metadata": {},
          "execution_count": 74
        }
      ]
    },
    {
      "cell_type": "markdown",
      "source": [
        "Predicted output on test file data"
      ],
      "metadata": {
        "id": "WZu5Bbkby-rv"
      }
    },
    {
      "cell_type": "code",
      "source": [
        "entry_y_pred = classifier.predict(testset)\n",
        "entry_y_pred"
      ],
      "metadata": {
        "colab": {
          "base_uri": "https://localhost:8080/"
        },
        "id": "zSnla8gDytwC",
        "outputId": "991e0991-914e-45bc-8bc2-86c9d85e529a"
      },
      "execution_count": null,
      "outputs": [
        {
          "output_type": "stream",
          "name": "stderr",
          "text": [
            "/usr/local/lib/python3.7/dist-packages/sklearn/base.py:444: UserWarning: X has feature names, but SVC was fitted without feature names\n",
            "  f\"X has feature names, but {self.__class__.__name__} was fitted without\"\n"
          ]
        },
        {
          "output_type": "execute_result",
          "data": {
            "text/plain": [
              "array([ True, False,  True, ...,  True,  True,  True])"
            ]
          },
          "metadata": {},
          "execution_count": 75
        }
      ]
    },
    {
      "cell_type": "code",
      "source": [
        "len(entry_y_pred)"
      ],
      "metadata": {
        "colab": {
          "base_uri": "https://localhost:8080/"
        },
        "id": "aJig2OVxzH-G",
        "outputId": "a2737b60-418b-4463-8b3e-783a75f676db"
      },
      "execution_count": null,
      "outputs": [
        {
          "output_type": "execute_result",
          "data": {
            "text/plain": [
              "4277"
            ]
          },
          "metadata": {},
          "execution_count": 76
        }
      ]
    },
    {
      "cell_type": "code",
      "source": [
        "testset_2 = pd.read_csv('test.csv')\n",
        "PassengerId = testset_2[\"PassengerId\"]\n"
      ],
      "metadata": {
        "id": "ZXXmCrEX3IVN"
      },
      "execution_count": null,
      "outputs": []
    },
    {
      "cell_type": "code",
      "source": [
        "Transported = entry_y_pred"
      ],
      "metadata": {
        "id": "jx5p8cnh5Njd"
      },
      "execution_count": null,
      "outputs": []
    },
    {
      "cell_type": "code",
      "source": [
        "ef = pd.DataFrame(list(zip(PassengerId,Transported)), columns=['PassengerId', 'Transported'])\n",
        "ef"
      ],
      "metadata": {
        "colab": {
          "base_uri": "https://localhost:8080/",
          "height": 424
        },
        "id": "YfZCHNfP5H2t",
        "outputId": "860c956e-2441-442d-b2d8-da9cb4d07b79"
      },
      "execution_count": null,
      "outputs": [
        {
          "output_type": "execute_result",
          "data": {
            "text/plain": [
              "     PassengerId  Transported\n",
              "0        0013_01         True\n",
              "1        0018_01        False\n",
              "2        0019_01         True\n",
              "3        0021_01         True\n",
              "4        0023_01        False\n",
              "...          ...          ...\n",
              "4272     9266_02         True\n",
              "4273     9269_01        False\n",
              "4274     9271_01         True\n",
              "4275     9273_01         True\n",
              "4276     9277_01         True\n",
              "\n",
              "[4277 rows x 2 columns]"
            ],
            "text/html": [
              "\n",
              "  <div id=\"df-73349a0a-e2eb-43c3-befc-439a9a3554de\">\n",
              "    <div class=\"colab-df-container\">\n",
              "      <div>\n",
              "<style scoped>\n",
              "    .dataframe tbody tr th:only-of-type {\n",
              "        vertical-align: middle;\n",
              "    }\n",
              "\n",
              "    .dataframe tbody tr th {\n",
              "        vertical-align: top;\n",
              "    }\n",
              "\n",
              "    .dataframe thead th {\n",
              "        text-align: right;\n",
              "    }\n",
              "</style>\n",
              "<table border=\"1\" class=\"dataframe\">\n",
              "  <thead>\n",
              "    <tr style=\"text-align: right;\">\n",
              "      <th></th>\n",
              "      <th>PassengerId</th>\n",
              "      <th>Transported</th>\n",
              "    </tr>\n",
              "  </thead>\n",
              "  <tbody>\n",
              "    <tr>\n",
              "      <th>0</th>\n",
              "      <td>0013_01</td>\n",
              "      <td>True</td>\n",
              "    </tr>\n",
              "    <tr>\n",
              "      <th>1</th>\n",
              "      <td>0018_01</td>\n",
              "      <td>False</td>\n",
              "    </tr>\n",
              "    <tr>\n",
              "      <th>2</th>\n",
              "      <td>0019_01</td>\n",
              "      <td>True</td>\n",
              "    </tr>\n",
              "    <tr>\n",
              "      <th>3</th>\n",
              "      <td>0021_01</td>\n",
              "      <td>True</td>\n",
              "    </tr>\n",
              "    <tr>\n",
              "      <th>4</th>\n",
              "      <td>0023_01</td>\n",
              "      <td>False</td>\n",
              "    </tr>\n",
              "    <tr>\n",
              "      <th>...</th>\n",
              "      <td>...</td>\n",
              "      <td>...</td>\n",
              "    </tr>\n",
              "    <tr>\n",
              "      <th>4272</th>\n",
              "      <td>9266_02</td>\n",
              "      <td>True</td>\n",
              "    </tr>\n",
              "    <tr>\n",
              "      <th>4273</th>\n",
              "      <td>9269_01</td>\n",
              "      <td>False</td>\n",
              "    </tr>\n",
              "    <tr>\n",
              "      <th>4274</th>\n",
              "      <td>9271_01</td>\n",
              "      <td>True</td>\n",
              "    </tr>\n",
              "    <tr>\n",
              "      <th>4275</th>\n",
              "      <td>9273_01</td>\n",
              "      <td>True</td>\n",
              "    </tr>\n",
              "    <tr>\n",
              "      <th>4276</th>\n",
              "      <td>9277_01</td>\n",
              "      <td>True</td>\n",
              "    </tr>\n",
              "  </tbody>\n",
              "</table>\n",
              "<p>4277 rows × 2 columns</p>\n",
              "</div>\n",
              "      <button class=\"colab-df-convert\" onclick=\"convertToInteractive('df-73349a0a-e2eb-43c3-befc-439a9a3554de')\"\n",
              "              title=\"Convert this dataframe to an interactive table.\"\n",
              "              style=\"display:none;\">\n",
              "        \n",
              "  <svg xmlns=\"http://www.w3.org/2000/svg\" height=\"24px\"viewBox=\"0 0 24 24\"\n",
              "       width=\"24px\">\n",
              "    <path d=\"M0 0h24v24H0V0z\" fill=\"none\"/>\n",
              "    <path d=\"M18.56 5.44l.94 2.06.94-2.06 2.06-.94-2.06-.94-.94-2.06-.94 2.06-2.06.94zm-11 1L8.5 8.5l.94-2.06 2.06-.94-2.06-.94L8.5 2.5l-.94 2.06-2.06.94zm10 10l.94 2.06.94-2.06 2.06-.94-2.06-.94-.94-2.06-.94 2.06-2.06.94z\"/><path d=\"M17.41 7.96l-1.37-1.37c-.4-.4-.92-.59-1.43-.59-.52 0-1.04.2-1.43.59L10.3 9.45l-7.72 7.72c-.78.78-.78 2.05 0 2.83L4 21.41c.39.39.9.59 1.41.59.51 0 1.02-.2 1.41-.59l7.78-7.78 2.81-2.81c.8-.78.8-2.07 0-2.86zM5.41 20L4 18.59l7.72-7.72 1.47 1.35L5.41 20z\"/>\n",
              "  </svg>\n",
              "      </button>\n",
              "      \n",
              "  <style>\n",
              "    .colab-df-container {\n",
              "      display:flex;\n",
              "      flex-wrap:wrap;\n",
              "      gap: 12px;\n",
              "    }\n",
              "\n",
              "    .colab-df-convert {\n",
              "      background-color: #E8F0FE;\n",
              "      border: none;\n",
              "      border-radius: 50%;\n",
              "      cursor: pointer;\n",
              "      display: none;\n",
              "      fill: #1967D2;\n",
              "      height: 32px;\n",
              "      padding: 0 0 0 0;\n",
              "      width: 32px;\n",
              "    }\n",
              "\n",
              "    .colab-df-convert:hover {\n",
              "      background-color: #E2EBFA;\n",
              "      box-shadow: 0px 1px 2px rgba(60, 64, 67, 0.3), 0px 1px 3px 1px rgba(60, 64, 67, 0.15);\n",
              "      fill: #174EA6;\n",
              "    }\n",
              "\n",
              "    [theme=dark] .colab-df-convert {\n",
              "      background-color: #3B4455;\n",
              "      fill: #D2E3FC;\n",
              "    }\n",
              "\n",
              "    [theme=dark] .colab-df-convert:hover {\n",
              "      background-color: #434B5C;\n",
              "      box-shadow: 0px 1px 3px 1px rgba(0, 0, 0, 0.15);\n",
              "      filter: drop-shadow(0px 1px 2px rgba(0, 0, 0, 0.3));\n",
              "      fill: #FFFFFF;\n",
              "    }\n",
              "  </style>\n",
              "\n",
              "      <script>\n",
              "        const buttonEl =\n",
              "          document.querySelector('#df-73349a0a-e2eb-43c3-befc-439a9a3554de button.colab-df-convert');\n",
              "        buttonEl.style.display =\n",
              "          google.colab.kernel.accessAllowed ? 'block' : 'none';\n",
              "\n",
              "        async function convertToInteractive(key) {\n",
              "          const element = document.querySelector('#df-73349a0a-e2eb-43c3-befc-439a9a3554de');\n",
              "          const dataTable =\n",
              "            await google.colab.kernel.invokeFunction('convertToInteractive',\n",
              "                                                     [key], {});\n",
              "          if (!dataTable) return;\n",
              "\n",
              "          const docLinkHtml = 'Like what you see? Visit the ' +\n",
              "            '<a target=\"_blank\" href=https://colab.research.google.com/notebooks/data_table.ipynb>data table notebook</a>'\n",
              "            + ' to learn more about interactive tables.';\n",
              "          element.innerHTML = '';\n",
              "          dataTable['output_type'] = 'display_data';\n",
              "          await google.colab.output.renderOutput(dataTable, element);\n",
              "          const docLink = document.createElement('div');\n",
              "          docLink.innerHTML = docLinkHtml;\n",
              "          element.appendChild(docLink);\n",
              "        }\n",
              "      </script>\n",
              "    </div>\n",
              "  </div>\n",
              "  "
            ]
          },
          "metadata": {},
          "execution_count": 84
        }
      ]
    },
    {
      "cell_type": "code",
      "source": [
        "ef.to_csv('spaceship_titanic.csv', index=False)"
      ],
      "metadata": {
        "id": "UHtRjATG5yCd"
      },
      "execution_count": null,
      "outputs": []
    },
    {
      "cell_type": "markdown",
      "source": [
        "**Conclusion**\n",
        "\n",
        "On large datasets grid search should be used with few parameters to get an idea of direction otherwise will take forever.\n",
        "\n",
        "Check features for train and test at the start.\n",
        "\n",
        "Maybe consider redoing and dropping name column at the start, for both train and test."
      ],
      "metadata": {
        "id": "WuNQOy5PSPa1"
      }
    }
  ]
}