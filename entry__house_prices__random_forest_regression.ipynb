{
  "nbformat": 4,
  "nbformat_minor": 0,
  "metadata": {
    "colab": {
      "provenance": [],
      "include_colab_link": true
    },
    "kernelspec": {
      "name": "python3",
      "display_name": "Python 3"
    }
  },
  "cells": [
    {
      "cell_type": "markdown",
      "metadata": {
        "id": "view-in-github",
        "colab_type": "text"
      },
      "source": [
        "<a href=\"https://colab.research.google.com/github/sunonmountain/Data-Science-Projects-Python/blob/main/entry__house_prices__random_forest_regression.ipynb\" target=\"_parent\"><img src=\"https://colab.research.google.com/assets/colab-badge.svg\" alt=\"Open In Colab\"/></a>"
      ]
    },
    {
      "cell_type": "markdown",
      "metadata": {
        "id": "CazISR8X_HUG"
      },
      "source": [
        "# Random Forest Regression"
      ]
    },
    {
      "cell_type": "markdown",
      "metadata": {
        "id": "pOyqYHTk_Q57"
      },
      "source": [
        "## Importing the libraries"
      ]
    },
    {
      "cell_type": "code",
      "metadata": {
        "id": "T_YHJjnD_Tja"
      },
      "source": [
        "import numpy as np\n",
        "import matplotlib.pyplot as plt\n",
        "import pandas as pd"
      ],
      "execution_count": null,
      "outputs": []
    },
    {
      "cell_type": "markdown",
      "metadata": {
        "id": "vgC61-ah_WIz"
      },
      "source": [
        "## Importing the dataset\n",
        "\n",
        "Drop duplicates"
      ]
    },
    {
      "cell_type": "code",
      "metadata": {
        "id": "UrxyEKGn_ez7"
      },
      "source": [
        "trainset = pd.read_csv('train.csv')\n",
        "trainset = trainset.drop_duplicates(subset=None, keep='first', inplace=False, ignore_index=False)\n",
        "\n",
        "\n",
        "testset = pd.read_csv('test.csv')\n",
        "testset = testset.drop_duplicates(subset=None, keep='first', inplace=False, ignore_index=False)\n"
      ],
      "execution_count": null,
      "outputs": []
    },
    {
      "cell_type": "code",
      "source": [
        "trainset['Condition2']"
      ],
      "metadata": {
        "id": "uUpKULfU7TWz",
        "colab": {
          "base_uri": "https://localhost:8080/"
        },
        "outputId": "e3833dfd-a5d9-4b3a-a05b-139bd11c65ca"
      },
      "execution_count": null,
      "outputs": [
        {
          "output_type": "execute_result",
          "data": {
            "text/plain": [
              "0       Norm\n",
              "1       Norm\n",
              "2       Norm\n",
              "3       Norm\n",
              "4       Norm\n",
              "        ... \n",
              "1455    Norm\n",
              "1456    Norm\n",
              "1457    Norm\n",
              "1458    Norm\n",
              "1459    Norm\n",
              "Name: Condition2, Length: 1460, dtype: object"
            ]
          },
          "metadata": {},
          "execution_count": 3
        }
      ]
    },
    {
      "cell_type": "code",
      "source": [
        "trainset.shape"
      ],
      "metadata": {
        "colab": {
          "base_uri": "https://localhost:8080/"
        },
        "id": "TRR1E1SNQMws",
        "outputId": "0951bb7e-5a3a-454a-9147-adc3676366ef"
      },
      "execution_count": null,
      "outputs": [
        {
          "output_type": "execute_result",
          "data": {
            "text/plain": [
              "(1460, 81)"
            ]
          },
          "metadata": {},
          "execution_count": 4
        }
      ]
    },
    {
      "cell_type": "code",
      "source": [
        "testset.shape"
      ],
      "metadata": {
        "id": "KqsilSTRQQAx",
        "outputId": "3abffca2-53ba-4945-9044-eec5b49c60bb",
        "colab": {
          "base_uri": "https://localhost:8080/"
        }
      },
      "execution_count": null,
      "outputs": [
        {
          "output_type": "execute_result",
          "data": {
            "text/plain": [
              "(1459, 80)"
            ]
          },
          "metadata": {},
          "execution_count": 5
        }
      ]
    },
    {
      "cell_type": "markdown",
      "source": [
        "Drop Month Sold and Year Sold columns as these post sale."
      ],
      "metadata": {
        "id": "a5LhgE663Elu"
      }
    },
    {
      "cell_type": "code",
      "source": [
        "trainset = trainset.drop(['Id','YrSold', 'MoSold'], axis=1)\n",
        "\n",
        "testset = testset.drop(['Id','YrSold', 'MoSold'], axis=1)"
      ],
      "metadata": {
        "id": "PUvNR0422-mx"
      },
      "execution_count": null,
      "outputs": []
    },
    {
      "cell_type": "markdown",
      "source": [
        "Replace NA with 0"
      ],
      "metadata": {
        "id": "wBOUIRmd6FmI"
      }
    },
    {
      "cell_type": "code",
      "source": [
        "trainset =trainset.fillna(0)\n",
        "\n",
        "testset =testset.fillna(0)\n"
      ],
      "metadata": {
        "id": "w0J4S-vR4m3x"
      },
      "execution_count": null,
      "outputs": []
    },
    {
      "cell_type": "markdown",
      "source": [
        "Finish the catcols "
      ],
      "metadata": {
        "id": "CDl6H14iqoD-"
      }
    },
    {
      "cell_type": "code",
      "source": [
        "catcols = ['MSSubClass','MSZoning','Street','Alley','LotShape','LandContour','Utilities','LotConfig','LandSlope','Neighborhood','Condition1','Condition2','BldgType','HouseStyle','OverallQual','OverallCond','RoofStyle','RoofMatl','Exterior1st','Exterior2nd','MasVnrType','ExterQual','ExterCond','Foundation','BsmtQual','BsmtCond','BsmtExposure','BsmtFinType1','BsmtFinType2','Heating','HeatingQC','CentralAir','Electrical','KitchenQual','Functional','FireplaceQu','GarageType','GarageFinish','GarageQual','GarageCond','PavedDrive','PoolQC','Fence','MiscFeature','SaleType','SaleCondition','YearBuilt','YearRemodAdd']"
      ],
      "metadata": {
        "id": "Zlz3zWldke3R"
      },
      "execution_count": null,
      "outputs": []
    },
    {
      "cell_type": "markdown",
      "source": [
        "Seperate out categorical columns for encoding"
      ],
      "metadata": {
        "id": "BGHpA_JgSlQU"
      }
    },
    {
      "cell_type": "code",
      "source": [
        "non_catcols = trainset.columns[~trainset.columns.isin(trainset[catcols])]\n"
      ],
      "metadata": {
        "id": "-Rvn4kqHShx3"
      },
      "execution_count": null,
      "outputs": []
    },
    {
      "cell_type": "code",
      "source": [
        "non_catcols"
      ],
      "metadata": {
        "colab": {
          "base_uri": "https://localhost:8080/"
        },
        "id": "OnTpjXW1r4gv",
        "outputId": "c9301a57-2cd1-435e-de0f-5c770d4e0901"
      },
      "execution_count": null,
      "outputs": [
        {
          "output_type": "execute_result",
          "data": {
            "text/plain": [
              "Index(['LotFrontage', 'LotArea', 'MasVnrArea', 'BsmtFinSF1', 'BsmtFinSF2',\n",
              "       'BsmtUnfSF', 'TotalBsmtSF', '1stFlrSF', '2ndFlrSF', 'LowQualFinSF',\n",
              "       'GrLivArea', 'BsmtFullBath', 'BsmtHalfBath', 'FullBath', 'HalfBath',\n",
              "       'BedroomAbvGr', 'KitchenAbvGr', 'TotRmsAbvGrd', 'Fireplaces',\n",
              "       'GarageYrBlt', 'GarageCars', 'GarageArea', 'WoodDeckSF', 'OpenPorchSF',\n",
              "       'EnclosedPorch', '3SsnPorch', 'ScreenPorch', 'PoolArea', 'MiscVal',\n",
              "       'SalePrice'],\n",
              "      dtype='object')"
            ]
          },
          "metadata": {},
          "execution_count": 10
        }
      ]
    },
    {
      "cell_type": "code",
      "source": [
        "trainset.head()"
      ],
      "metadata": {
        "colab": {
          "base_uri": "https://localhost:8080/",
          "height": 299
        },
        "id": "-kWcObiRzmjp",
        "outputId": "d6fe1660-adf4-4453-bf5e-a8f6178587e7"
      },
      "execution_count": null,
      "outputs": [
        {
          "output_type": "execute_result",
          "data": {
            "text/plain": [
              "   MSSubClass MSZoning  LotFrontage  LotArea Street Alley LotShape  \\\n",
              "0          60       RL         65.0     8450   Pave     0      Reg   \n",
              "1          20       RL         80.0     9600   Pave     0      Reg   \n",
              "2          60       RL         68.0    11250   Pave     0      IR1   \n",
              "3          70       RL         60.0     9550   Pave     0      IR1   \n",
              "4          60       RL         84.0    14260   Pave     0      IR1   \n",
              "\n",
              "  LandContour Utilities LotConfig  ... 3SsnPorch ScreenPorch PoolArea PoolQC  \\\n",
              "0         Lvl    AllPub    Inside  ...         0           0        0      0   \n",
              "1         Lvl    AllPub       FR2  ...         0           0        0      0   \n",
              "2         Lvl    AllPub    Inside  ...         0           0        0      0   \n",
              "3         Lvl    AllPub    Corner  ...         0           0        0      0   \n",
              "4         Lvl    AllPub       FR2  ...         0           0        0      0   \n",
              "\n",
              "  Fence MiscFeature  MiscVal  SaleType  SaleCondition  SalePrice  \n",
              "0     0           0        0        WD         Normal     208500  \n",
              "1     0           0        0        WD         Normal     181500  \n",
              "2     0           0        0        WD         Normal     223500  \n",
              "3     0           0        0        WD        Abnorml     140000  \n",
              "4     0           0        0        WD         Normal     250000  \n",
              "\n",
              "[5 rows x 78 columns]"
            ],
            "text/html": [
              "\n",
              "  <div id=\"df-070c1aff-efbf-4991-83c1-3fb066a4d9c8\">\n",
              "    <div class=\"colab-df-container\">\n",
              "      <div>\n",
              "<style scoped>\n",
              "    .dataframe tbody tr th:only-of-type {\n",
              "        vertical-align: middle;\n",
              "    }\n",
              "\n",
              "    .dataframe tbody tr th {\n",
              "        vertical-align: top;\n",
              "    }\n",
              "\n",
              "    .dataframe thead th {\n",
              "        text-align: right;\n",
              "    }\n",
              "</style>\n",
              "<table border=\"1\" class=\"dataframe\">\n",
              "  <thead>\n",
              "    <tr style=\"text-align: right;\">\n",
              "      <th></th>\n",
              "      <th>MSSubClass</th>\n",
              "      <th>MSZoning</th>\n",
              "      <th>LotFrontage</th>\n",
              "      <th>LotArea</th>\n",
              "      <th>Street</th>\n",
              "      <th>Alley</th>\n",
              "      <th>LotShape</th>\n",
              "      <th>LandContour</th>\n",
              "      <th>Utilities</th>\n",
              "      <th>LotConfig</th>\n",
              "      <th>...</th>\n",
              "      <th>3SsnPorch</th>\n",
              "      <th>ScreenPorch</th>\n",
              "      <th>PoolArea</th>\n",
              "      <th>PoolQC</th>\n",
              "      <th>Fence</th>\n",
              "      <th>MiscFeature</th>\n",
              "      <th>MiscVal</th>\n",
              "      <th>SaleType</th>\n",
              "      <th>SaleCondition</th>\n",
              "      <th>SalePrice</th>\n",
              "    </tr>\n",
              "  </thead>\n",
              "  <tbody>\n",
              "    <tr>\n",
              "      <th>0</th>\n",
              "      <td>60</td>\n",
              "      <td>RL</td>\n",
              "      <td>65.0</td>\n",
              "      <td>8450</td>\n",
              "      <td>Pave</td>\n",
              "      <td>0</td>\n",
              "      <td>Reg</td>\n",
              "      <td>Lvl</td>\n",
              "      <td>AllPub</td>\n",
              "      <td>Inside</td>\n",
              "      <td>...</td>\n",
              "      <td>0</td>\n",
              "      <td>0</td>\n",
              "      <td>0</td>\n",
              "      <td>0</td>\n",
              "      <td>0</td>\n",
              "      <td>0</td>\n",
              "      <td>0</td>\n",
              "      <td>WD</td>\n",
              "      <td>Normal</td>\n",
              "      <td>208500</td>\n",
              "    </tr>\n",
              "    <tr>\n",
              "      <th>1</th>\n",
              "      <td>20</td>\n",
              "      <td>RL</td>\n",
              "      <td>80.0</td>\n",
              "      <td>9600</td>\n",
              "      <td>Pave</td>\n",
              "      <td>0</td>\n",
              "      <td>Reg</td>\n",
              "      <td>Lvl</td>\n",
              "      <td>AllPub</td>\n",
              "      <td>FR2</td>\n",
              "      <td>...</td>\n",
              "      <td>0</td>\n",
              "      <td>0</td>\n",
              "      <td>0</td>\n",
              "      <td>0</td>\n",
              "      <td>0</td>\n",
              "      <td>0</td>\n",
              "      <td>0</td>\n",
              "      <td>WD</td>\n",
              "      <td>Normal</td>\n",
              "      <td>181500</td>\n",
              "    </tr>\n",
              "    <tr>\n",
              "      <th>2</th>\n",
              "      <td>60</td>\n",
              "      <td>RL</td>\n",
              "      <td>68.0</td>\n",
              "      <td>11250</td>\n",
              "      <td>Pave</td>\n",
              "      <td>0</td>\n",
              "      <td>IR1</td>\n",
              "      <td>Lvl</td>\n",
              "      <td>AllPub</td>\n",
              "      <td>Inside</td>\n",
              "      <td>...</td>\n",
              "      <td>0</td>\n",
              "      <td>0</td>\n",
              "      <td>0</td>\n",
              "      <td>0</td>\n",
              "      <td>0</td>\n",
              "      <td>0</td>\n",
              "      <td>0</td>\n",
              "      <td>WD</td>\n",
              "      <td>Normal</td>\n",
              "      <td>223500</td>\n",
              "    </tr>\n",
              "    <tr>\n",
              "      <th>3</th>\n",
              "      <td>70</td>\n",
              "      <td>RL</td>\n",
              "      <td>60.0</td>\n",
              "      <td>9550</td>\n",
              "      <td>Pave</td>\n",
              "      <td>0</td>\n",
              "      <td>IR1</td>\n",
              "      <td>Lvl</td>\n",
              "      <td>AllPub</td>\n",
              "      <td>Corner</td>\n",
              "      <td>...</td>\n",
              "      <td>0</td>\n",
              "      <td>0</td>\n",
              "      <td>0</td>\n",
              "      <td>0</td>\n",
              "      <td>0</td>\n",
              "      <td>0</td>\n",
              "      <td>0</td>\n",
              "      <td>WD</td>\n",
              "      <td>Abnorml</td>\n",
              "      <td>140000</td>\n",
              "    </tr>\n",
              "    <tr>\n",
              "      <th>4</th>\n",
              "      <td>60</td>\n",
              "      <td>RL</td>\n",
              "      <td>84.0</td>\n",
              "      <td>14260</td>\n",
              "      <td>Pave</td>\n",
              "      <td>0</td>\n",
              "      <td>IR1</td>\n",
              "      <td>Lvl</td>\n",
              "      <td>AllPub</td>\n",
              "      <td>FR2</td>\n",
              "      <td>...</td>\n",
              "      <td>0</td>\n",
              "      <td>0</td>\n",
              "      <td>0</td>\n",
              "      <td>0</td>\n",
              "      <td>0</td>\n",
              "      <td>0</td>\n",
              "      <td>0</td>\n",
              "      <td>WD</td>\n",
              "      <td>Normal</td>\n",
              "      <td>250000</td>\n",
              "    </tr>\n",
              "  </tbody>\n",
              "</table>\n",
              "<p>5 rows × 78 columns</p>\n",
              "</div>\n",
              "      <button class=\"colab-df-convert\" onclick=\"convertToInteractive('df-070c1aff-efbf-4991-83c1-3fb066a4d9c8')\"\n",
              "              title=\"Convert this dataframe to an interactive table.\"\n",
              "              style=\"display:none;\">\n",
              "        \n",
              "  <svg xmlns=\"http://www.w3.org/2000/svg\" height=\"24px\"viewBox=\"0 0 24 24\"\n",
              "       width=\"24px\">\n",
              "    <path d=\"M0 0h24v24H0V0z\" fill=\"none\"/>\n",
              "    <path d=\"M18.56 5.44l.94 2.06.94-2.06 2.06-.94-2.06-.94-.94-2.06-.94 2.06-2.06.94zm-11 1L8.5 8.5l.94-2.06 2.06-.94-2.06-.94L8.5 2.5l-.94 2.06-2.06.94zm10 10l.94 2.06.94-2.06 2.06-.94-2.06-.94-.94-2.06-.94 2.06-2.06.94z\"/><path d=\"M17.41 7.96l-1.37-1.37c-.4-.4-.92-.59-1.43-.59-.52 0-1.04.2-1.43.59L10.3 9.45l-7.72 7.72c-.78.78-.78 2.05 0 2.83L4 21.41c.39.39.9.59 1.41.59.51 0 1.02-.2 1.41-.59l7.78-7.78 2.81-2.81c.8-.78.8-2.07 0-2.86zM5.41 20L4 18.59l7.72-7.72 1.47 1.35L5.41 20z\"/>\n",
              "  </svg>\n",
              "      </button>\n",
              "      \n",
              "  <style>\n",
              "    .colab-df-container {\n",
              "      display:flex;\n",
              "      flex-wrap:wrap;\n",
              "      gap: 12px;\n",
              "    }\n",
              "\n",
              "    .colab-df-convert {\n",
              "      background-color: #E8F0FE;\n",
              "      border: none;\n",
              "      border-radius: 50%;\n",
              "      cursor: pointer;\n",
              "      display: none;\n",
              "      fill: #1967D2;\n",
              "      height: 32px;\n",
              "      padding: 0 0 0 0;\n",
              "      width: 32px;\n",
              "    }\n",
              "\n",
              "    .colab-df-convert:hover {\n",
              "      background-color: #E2EBFA;\n",
              "      box-shadow: 0px 1px 2px rgba(60, 64, 67, 0.3), 0px 1px 3px 1px rgba(60, 64, 67, 0.15);\n",
              "      fill: #174EA6;\n",
              "    }\n",
              "\n",
              "    [theme=dark] .colab-df-convert {\n",
              "      background-color: #3B4455;\n",
              "      fill: #D2E3FC;\n",
              "    }\n",
              "\n",
              "    [theme=dark] .colab-df-convert:hover {\n",
              "      background-color: #434B5C;\n",
              "      box-shadow: 0px 1px 3px 1px rgba(0, 0, 0, 0.15);\n",
              "      filter: drop-shadow(0px 1px 2px rgba(0, 0, 0, 0.3));\n",
              "      fill: #FFFFFF;\n",
              "    }\n",
              "  </style>\n",
              "\n",
              "      <script>\n",
              "        const buttonEl =\n",
              "          document.querySelector('#df-070c1aff-efbf-4991-83c1-3fb066a4d9c8 button.colab-df-convert');\n",
              "        buttonEl.style.display =\n",
              "          google.colab.kernel.accessAllowed ? 'block' : 'none';\n",
              "\n",
              "        async function convertToInteractive(key) {\n",
              "          const element = document.querySelector('#df-070c1aff-efbf-4991-83c1-3fb066a4d9c8');\n",
              "          const dataTable =\n",
              "            await google.colab.kernel.invokeFunction('convertToInteractive',\n",
              "                                                     [key], {});\n",
              "          if (!dataTable) return;\n",
              "\n",
              "          const docLinkHtml = 'Like what you see? Visit the ' +\n",
              "            '<a target=\"_blank\" href=https://colab.research.google.com/notebooks/data_table.ipynb>data table notebook</a>'\n",
              "            + ' to learn more about interactive tables.';\n",
              "          element.innerHTML = '';\n",
              "          dataTable['output_type'] = 'display_data';\n",
              "          await google.colab.output.renderOutput(dataTable, element);\n",
              "          const docLink = document.createElement('div');\n",
              "          docLink.innerHTML = docLinkHtml;\n",
              "          element.appendChild(docLink);\n",
              "        }\n",
              "      </script>\n",
              "    </div>\n",
              "  </div>\n",
              "  "
            ]
          },
          "metadata": {},
          "execution_count": 11
        }
      ]
    },
    {
      "cell_type": "markdown",
      "source": [
        "Encode the category columns"
      ],
      "metadata": {
        "id": "leIykh04uhSj"
      }
    },
    {
      "cell_type": "code",
      "source": [
        "trainset = pd.get_dummies(trainset,columns=catcols, drop_first=True)\n",
        "\n",
        "testset = pd.get_dummies(testset,columns=catcols, drop_first=True)\n",
        "\n",
        "\n",
        "\n",
        "\n"
      ],
      "metadata": {
        "id": "J2-FcALVuldK"
      },
      "execution_count": null,
      "outputs": []
    },
    {
      "cell_type": "code",
      "source": [
        "trainset.shape"
      ],
      "metadata": {
        "colab": {
          "base_uri": "https://localhost:8080/"
        },
        "id": "k-O2cPZCzyKv",
        "outputId": "3dff2397-fcfa-4deb-db5a-70d800b35d74"
      },
      "execution_count": null,
      "outputs": [
        {
          "output_type": "execute_result",
          "data": {
            "text/plain": [
              "(1460, 457)"
            ]
          },
          "metadata": {},
          "execution_count": 13
        }
      ]
    },
    {
      "cell_type": "code",
      "source": [
        "testset.shape"
      ],
      "metadata": {
        "id": "TYzA46uh3sOp",
        "colab": {
          "base_uri": "https://localhost:8080/"
        },
        "outputId": "f765b571-dbba-4586-ac5c-c996ac9eec1c"
      },
      "execution_count": null,
      "outputs": [
        {
          "output_type": "execute_result",
          "data": {
            "text/plain": [
              "(1459, 439)"
            ]
          },
          "metadata": {},
          "execution_count": 14
        }
      ]
    },
    {
      "cell_type": "code",
      "source": [
        "traincols = trainset.columns\n",
        "len(traincols)"
      ],
      "metadata": {
        "colab": {
          "base_uri": "https://localhost:8080/"
        },
        "id": "vF2TwkDI6MBi",
        "outputId": "43ce89b1-74bc-4272-ad6d-103265bf7cca"
      },
      "execution_count": null,
      "outputs": [
        {
          "output_type": "execute_result",
          "data": {
            "text/plain": [
              "457"
            ]
          },
          "metadata": {},
          "execution_count": 15
        }
      ]
    },
    {
      "cell_type": "code",
      "source": [
        "testcols = testset.columns\n",
        "len(testcols)"
      ],
      "metadata": {
        "colab": {
          "base_uri": "https://localhost:8080/"
        },
        "id": "ay7oKglP6Udq",
        "outputId": "cb397994-b513-4644-8886-ef2ed72d047a"
      },
      "execution_count": null,
      "outputs": [
        {
          "output_type": "execute_result",
          "data": {
            "text/plain": [
              "439"
            ]
          },
          "metadata": {},
          "execution_count": 16
        }
      ]
    },
    {
      "cell_type": "code",
      "source": [
        "non_testcols = trainset.columns[~trainset.columns.isin(testcols)]\n",
        "non_testcols\n",
        "len(non_testcols)"
      ],
      "metadata": {
        "colab": {
          "base_uri": "https://localhost:8080/"
        },
        "id": "GsU3l61f6UpZ",
        "outputId": "23f7f427-748a-473d-9bbf-95c364c9014b"
      },
      "execution_count": null,
      "outputs": [
        {
          "output_type": "execute_result",
          "data": {
            "text/plain": [
              "31"
            ]
          },
          "metadata": {},
          "execution_count": 17
        }
      ]
    },
    {
      "cell_type": "code",
      "source": [
        "in_testcols = trainset.columns[trainset.columns.isin(testcols)]\n",
        "in_testcols"
      ],
      "metadata": {
        "colab": {
          "base_uri": "https://localhost:8080/"
        },
        "id": "vQ345Ab-idXl",
        "outputId": "6da39976-003d-4aea-8bde-892d29d51151"
      },
      "execution_count": null,
      "outputs": [
        {
          "output_type": "execute_result",
          "data": {
            "text/plain": [
              "Index(['LotFrontage', 'LotArea', 'MasVnrArea', 'BsmtFinSF1', 'BsmtFinSF2',\n",
              "       'BsmtUnfSF', 'TotalBsmtSF', '1stFlrSF', '2ndFlrSF', 'LowQualFinSF',\n",
              "       ...\n",
              "       'YearRemodAdd_2001', 'YearRemodAdd_2002', 'YearRemodAdd_2003',\n",
              "       'YearRemodAdd_2004', 'YearRemodAdd_2005', 'YearRemodAdd_2006',\n",
              "       'YearRemodAdd_2007', 'YearRemodAdd_2008', 'YearRemodAdd_2009',\n",
              "       'YearRemodAdd_2010'],\n",
              "      dtype='object', length=426)"
            ]
          },
          "metadata": {},
          "execution_count": 18
        }
      ]
    },
    {
      "cell_type": "markdown",
      "source": [
        "Need to drop the above columns and then train model.\n",
        "\n",
        "From list above identify the columns the data is from by looking at data descriptions. \n",
        "\n",
        "This needs to be done prior to encoding.\n",
        "\n",
        "Then eliminate columns."
      ],
      "metadata": {
        "id": "Nz4KgaTS7kq5"
      }
    },
    {
      "cell_type": "code",
      "source": [
        "\n",
        "non_testcols= list(non_testcols)\n",
        "non_testcols.pop(0)\n",
        "non_testcols"
      ],
      "metadata": {
        "colab": {
          "base_uri": "https://localhost:8080/"
        },
        "id": "zzRm1T9Oo4Hz",
        "outputId": "26e314a0-9b1a-45f7-8ac5-fc32014a61e1"
      },
      "execution_count": null,
      "outputs": [
        {
          "output_type": "execute_result",
          "data": {
            "text/plain": [
              "['Utilities_NoSeWa',\n",
              " 'Condition2_RRAe',\n",
              " 'Condition2_RRAn',\n",
              " 'Condition2_RRNn',\n",
              " 'HouseStyle_2.5Fin',\n",
              " 'RoofMatl_CompShg',\n",
              " 'RoofMatl_Membran',\n",
              " 'RoofMatl_Metal',\n",
              " 'RoofMatl_Roll',\n",
              " 'Exterior1st_ImStucc',\n",
              " 'Exterior1st_Stone',\n",
              " 'Exterior2nd_Other',\n",
              " 'Heating_GasA',\n",
              " 'Heating_OthW',\n",
              " 'Electrical_FuseA',\n",
              " 'Electrical_Mix',\n",
              " 'GarageQual_Ex',\n",
              " 'PoolQC_Fa',\n",
              " 'MiscFeature_TenC',\n",
              " 'YearBuilt_1875',\n",
              " 'YearBuilt_1882',\n",
              " 'YearBuilt_1885',\n",
              " 'YearBuilt_1892',\n",
              " 'YearBuilt_1893',\n",
              " 'YearBuilt_1898',\n",
              " 'YearBuilt_1904',\n",
              " 'YearBuilt_1906',\n",
              " 'YearBuilt_1908',\n",
              " 'YearBuilt_1911',\n",
              " 'YearBuilt_1913']"
            ]
          },
          "metadata": {},
          "execution_count": 19
        }
      ]
    },
    {
      "cell_type": "code",
      "source": [
        "trainset = trainset.drop(columns=non_testcols)\n",
        "trainset.shape"
      ],
      "metadata": {
        "colab": {
          "base_uri": "https://localhost:8080/"
        },
        "id": "AUtp_pSAm02P",
        "outputId": "7486e54e-0454-44e4-b3ca-f97edd625ea2"
      },
      "execution_count": null,
      "outputs": [
        {
          "output_type": "execute_result",
          "data": {
            "text/plain": [
              "(1460, 427)"
            ]
          },
          "metadata": {},
          "execution_count": 20
        }
      ]
    },
    {
      "cell_type": "markdown",
      "source": [
        "Now need to add in cols in test that are not in train."
      ],
      "metadata": {
        "id": "TanQybGHonid"
      }
    },
    {
      "cell_type": "code",
      "source": [
        "non_traincols = testset.columns[~testset.columns.isin(traincols)]\n",
        "non_traincols = list(non_traincols)\n",
        "len(non_traincols)"
      ],
      "metadata": {
        "colab": {
          "base_uri": "https://localhost:8080/"
        },
        "id": "iRp-qRU4o9d5",
        "outputId": "4acd1f6a-bdba-4057-e102-12ef93f11eb3"
      },
      "execution_count": null,
      "outputs": [
        {
          "output_type": "execute_result",
          "data": {
            "text/plain": [
              "13"
            ]
          },
          "metadata": {},
          "execution_count": 21
        }
      ]
    },
    {
      "cell_type": "markdown",
      "source": [
        "Add to existing dataframe"
      ],
      "metadata": {
        "id": "DHFT4nubqROE"
      }
    },
    {
      "cell_type": "code",
      "source": [
        "trainset = trainset.reindex(columns = trainset.columns.tolist() + non_traincols)\n",
        "trainset.shape\n",
        " "
      ],
      "metadata": {
        "colab": {
          "base_uri": "https://localhost:8080/"
        },
        "id": "kP1eqdSkqVZq",
        "outputId": "24d0bd82-e428-4890-f9b9-4773c686c040"
      },
      "execution_count": null,
      "outputs": [
        {
          "output_type": "execute_result",
          "data": {
            "text/plain": [
              "(1460, 440)"
            ]
          },
          "metadata": {},
          "execution_count": 22
        }
      ]
    },
    {
      "cell_type": "code",
      "source": [
        "trainset =trainset.fillna(0)"
      ],
      "metadata": {
        "id": "BGTs6uwmsA_1"
      },
      "execution_count": null,
      "outputs": []
    },
    {
      "cell_type": "code",
      "source": [
        "X =trainset.loc[:,trainset.columns != 'SalePrice'].values\n",
        "y = trainset.loc[:,'SalePrice'].values\n",
        "\n"
      ],
      "metadata": {
        "id": "tqrFd1Pp1Xlo"
      },
      "execution_count": null,
      "outputs": []
    },
    {
      "cell_type": "markdown",
      "source": [
        "Split data into Train and Test"
      ],
      "metadata": {
        "id": "fQ5Klos8DAqR"
      }
    },
    {
      "cell_type": "code",
      "metadata": {
        "id": "GOB3QhV9B5kD"
      },
      "source": [
        "from sklearn.model_selection import train_test_split\n",
        "X_train, X_test, y_train, y_test = train_test_split(X, y, test_size = 0.2, random_state = 0)"
      ],
      "execution_count": null,
      "outputs": []
    },
    {
      "cell_type": "markdown",
      "metadata": {
        "id": "k-McZVsQBINc"
      },
      "source": [
        "## Training the Decision Tree Regression model on the Training set"
      ]
    },
    {
      "cell_type": "code",
      "metadata": {
        "id": "ywPjx0L1BMiD",
        "colab": {
          "base_uri": "https://localhost:8080/"
        },
        "outputId": "240f2347-1e4e-4840-f40a-31ed2d542552"
      },
      "source": [
        "from sklearn.ensemble import RandomForestRegressor\n",
        "regressor = RandomForestRegressor(n_estimators = 10, random_state = 0)\n",
        "regressor.fit(X_train, y_train)"
      ],
      "execution_count": null,
      "outputs": [
        {
          "output_type": "execute_result",
          "data": {
            "text/plain": [
              "RandomForestRegressor(n_estimators=10, random_state=0)"
            ]
          },
          "metadata": {},
          "execution_count": 26
        }
      ]
    },
    {
      "cell_type": "markdown",
      "metadata": {
        "id": "xNkXL1YQBiBT"
      },
      "source": [
        "## Predicting the Test set results"
      ]
    },
    {
      "cell_type": "code",
      "metadata": {
        "id": "TQKmwvtdBkyb",
        "colab": {
          "base_uri": "https://localhost:8080/"
        },
        "outputId": "be744e2c-f25f-488a-90f5-6907ddab411d"
      },
      "source": [
        "y_pred = regressor.predict(X_test)\n",
        "np.set_printoptions(precision=2)\n",
        "print(np.concatenate((y_pred.reshape(len(y_pred),1), y_test.reshape(len(y_test),1)),1))"
      ],
      "execution_count": null,
      "outputs": [
        {
          "output_type": "stream",
          "name": "stdout",
          "text": [
            "[[270320.  200624. ]\n",
            " [135550.  133000. ]\n",
            " [112640.  110000. ]\n",
            " [204909.  192000. ]\n",
            " [ 92170.   88000. ]\n",
            " [109948.   85000. ]\n",
            " [224862.8 282922. ]\n",
            " [121490.  141000. ]\n",
            " [551210.6 745000. ]\n",
            " [140583.3 148800. ]\n",
            " [201415.3 208900. ]\n",
            " [156900.  136905. ]\n",
            " [218990.  225000. ]\n",
            " [127138.3 123000. ]\n",
            " [132950.  119200. ]\n",
            " [152220.  145000. ]\n",
            " [235379.5 190000. ]\n",
            " [104520.  123600. ]\n",
            " [140700.  149350. ]\n",
            " [156600.  155000. ]\n",
            " [141150.  166000. ]\n",
            " [141950.  144500. ]\n",
            " [ 94429.3 110000. ]\n",
            " [171930.  174000. ]\n",
            " [212840.  185000. ]\n",
            " [203235.  168000. ]\n",
            " [157500.  177500. ]\n",
            " [ 81200.   84500. ]\n",
            " [321680.  320000. ]\n",
            " [119750.  118500. ]\n",
            " [179992.6 110000. ]\n",
            " [202266.5 213000. ]\n",
            " [145690.  156000. ]\n",
            " [275379.9 250000. ]\n",
            " [335899.  372500. ]\n",
            " [169007.5 175000. ]\n",
            " [267200.  277500. ]\n",
            " [127300.  112500. ]\n",
            " [226510.  263000. ]\n",
            " [308566.8 325000. ]\n",
            " [224400.  243000. ]\n",
            " [125900.  130000. ]\n",
            " [182213.6 164990. ]\n",
            " [338854.8 280000. ]\n",
            " [424649.7 403000. ]\n",
            " [153160.  119000. ]\n",
            " [121550.  125000. ]\n",
            " [125975.  128200. ]\n",
            " [162690.  172500. ]\n",
            " [109240.   84900. ]\n",
            " [398811.9 412500. ]\n",
            " [140635.  156000. ]\n",
            " [167920.  167900. ]\n",
            " [ 91390.  100000. ]\n",
            " [291140.  275000. ]\n",
            " [118980.  123000. ]\n",
            " [132850.  132000. ]\n",
            " [264899.8 239900. ]\n",
            " [144580.  139000. ]\n",
            " [112375.  115000. ]\n",
            " [156240.  137500. ]\n",
            " [132815.  135000. ]\n",
            " [136945.  134450. ]\n",
            " [166180.  180500. ]\n",
            " [215340.  193500. ]\n",
            " [176600.  156500. ]\n",
            " [129237.5 132000. ]\n",
            " [191678.  224500. ]\n",
            " [117470.  139000. ]\n",
            " [192093.2 225000. ]\n",
            " [177133.5 188500. ]\n",
            " [116260.  118000. ]\n",
            " [ 92729.3  82000. ]\n",
            " [209758.5 392000. ]\n",
            " [115136.6 112000. ]\n",
            " [259007.7 248900. ]\n",
            " [130900.  134500. ]\n",
            " [110845.   79500. ]\n",
            " [294418.2 320000. ]\n",
            " [164343.4 158000. ]\n",
            " [125136.  140000. ]\n",
            " [128030.  136500. ]\n",
            " [126790.  107500. ]\n",
            " [138450.  145000. ]\n",
            " [216968.  200500. ]\n",
            " [199825.  185000. ]\n",
            " [141990.  105000. ]\n",
            " [205026.  202665. ]\n",
            " [178650.5 186000. ]\n",
            " [136065.  136000. ]\n",
            " [186246.5 200500. ]\n",
            " [184970.  190000. ]\n",
            " [170520.  187500. ]\n",
            " [219350.  200000. ]\n",
            " [260831.9 172500. ]\n",
            " [141620.  157000. ]\n",
            " [204367.  213000. ]\n",
            " [168583.2 185000. ]\n",
            " [122680.  124500. ]\n",
            " [151999.  162900. ]\n",
            " [269690.  260000. ]\n",
            " [187261.  198500. ]\n",
            " [115280.  120000. ]\n",
            " [153733.5 159500. ]\n",
            " [121450.  105900. ]\n",
            " [269737.7 260000. ]\n",
            " [143150.  143000. ]\n",
            " [109490.  106500. ]\n",
            " [177344.  178900. ]\n",
            " [102700.  127000. ]\n",
            " [ 87290.   90350. ]\n",
            " [133430.  118500. ]\n",
            " [191360.  190000. ]\n",
            " [118050.  119900. ]\n",
            " [175050.8 183900. ]\n",
            " [160940.  155000. ]\n",
            " [387045.  386250. ]\n",
            " [129660.  133000. ]\n",
            " [210180.  193500. ]\n",
            " [255737.9 270000. ]\n",
            " [123752.5 141000. ]\n",
            " [163100.  146000. ]\n",
            " [144195.  128500. ]\n",
            " [191450.  176000. ]\n",
            " [228950.  214000. ]\n",
            " [207897.  222000. ]\n",
            " [357773.2 415298. ]\n",
            " [193334.2 187750. ]\n",
            " [183819.5 199900. ]\n",
            " [174140.  180000. ]\n",
            " [230042.4 206300. ]\n",
            " [196710.  194000. ]\n",
            " [140052.2 142953. ]\n",
            " [188468.5 182900. ]\n",
            " [106511.6 116050. ]\n",
            " [233620.  213250. ]\n",
            " [139753.4 139500. ]\n",
            " [179560.  179000. ]\n",
            " [105444.4 107900. ]\n",
            " [187941.5 175900. ]\n",
            " [137387.5 158500. ]\n",
            " [137100.  145000. ]\n",
            " [247710.  217000. ]\n",
            " [136700.  150500. ]\n",
            " [165020.  108959. ]\n",
            " [179220.  165600. ]\n",
            " [211400.  201000. ]\n",
            " [139670.  145500. ]\n",
            " [260990.  319900. ]\n",
            " [244200.  215000. ]\n",
            " [164965.  180500. ]\n",
            " [349004.1 367294. ]\n",
            " [272166.1 239000. ]\n",
            " [162740.  145900. ]\n",
            " [184750.  161000. ]\n",
            " [234394.3 250000. ]\n",
            " [118930.8  89471. ]\n",
            " [184820.  230000. ]\n",
            " [114315.  147000. ]\n",
            " [166005.  163900. ]\n",
            " [122245.   97000. ]\n",
            " [151380.  142000. ]\n",
            " [193691.  197000. ]\n",
            " [118680.  129000. ]\n",
            " [246072.8 232000. ]\n",
            " [119450.  115000. ]\n",
            " [152850.  175000. ]\n",
            " [291094.3 265000. ]\n",
            " [199603.5 207000. ]\n",
            " [171130.  181000. ]\n",
            " [170220.  176000. ]\n",
            " [160450.  171000. ]\n",
            " [207302.  196000. ]\n",
            " [164530.  176000. ]\n",
            " [120107.6 113000. ]\n",
            " [108820.  139000. ]\n",
            " [136170.  135000. ]\n",
            " [210840.  240000. ]\n",
            " [118140.  112000. ]\n",
            " [148825.  134000. ]\n",
            " [298119.2 316600. ]\n",
            " [188500.  170000. ]\n",
            " [115370.  116000. ]\n",
            " [300557.  306000. ]\n",
            " [132350.   82500. ]\n",
            " [217115.  175000. ]\n",
            " [ 92930.  106000. ]\n",
            " [200460.  194000. ]\n",
            " [261594.3 194201. ]\n",
            " [138740.  155900. ]\n",
            " [141450.  138000. ]\n",
            " [150425.  177000. ]\n",
            " [206420.  214000. ]\n",
            " [132130.  148000. ]\n",
            " [126120.  127000. ]\n",
            " [145490.  142500. ]\n",
            " [ 92040.   80000. ]\n",
            " [123430.  145000. ]\n",
            " [174810.  171000. ]\n",
            " [129185.  122500. ]\n",
            " [135910.  139000. ]\n",
            " [175320.  189000. ]\n",
            " [108190.  120500. ]\n",
            " [110125.8 124000. ]\n",
            " [139646.4 160000. ]\n",
            " [239246.2 200000. ]\n",
            " [145640.  160000. ]\n",
            " [301416.3 313000. ]\n",
            " [262793.  275000. ]\n",
            " [ 92300.   67000. ]\n",
            " [153012.5 159000. ]\n",
            " [286940.  251000. ]\n",
            " [106390.   92900. ]\n",
            " [104400.  109500. ]\n",
            " [373344.3 385000. ]\n",
            " [199920.  129000. ]\n",
            " [175650.   82500. ]\n",
            " [261150.  301000. ]\n",
            " [248095.6 249700. ]\n",
            " [ 84300.   81000. ]\n",
            " [188150.  187500. ]\n",
            " [168850.  110000. ]\n",
            " [133260.  117000. ]\n",
            " [124900.8 128500. ]\n",
            " [206650.  213490. ]\n",
            " [294321.7 284000. ]\n",
            " [245496.  230500. ]\n",
            " [226288.  190000. ]\n",
            " [132325.  135000. ]\n",
            " [158383.5 152000. ]\n",
            " [ 91680.   87500. ]\n",
            " [139630.  155000. ]\n",
            " [101350.  115000. ]\n",
            " [140810.  144000. ]\n",
            " [229890.  248000. ]\n",
            " [122980.  132500. ]\n",
            " [133350.  136000. ]\n",
            " [120090.  117000. ]\n",
            " [ 84396.8  82000. ]\n",
            " [172340.  157500. ]\n",
            " [117860.  110000. ]\n",
            " [208783.2 181000. ]\n",
            " [209950.  192500. ]\n",
            " [225650.  223500. ]\n",
            " [170730.  181500. ]\n",
            " [153838.  170000. ]\n",
            " [180970.  187500. ]\n",
            " [188104.  185900. ]\n",
            " [124650.  160000. ]\n",
            " [190160.  192000. ]\n",
            " [179590.  181900. ]\n",
            " [255737.9 266000. ]\n",
            " [ 95930.   99900. ]\n",
            " [382725.7 438780. ]\n",
            " [216640.  229456. ]\n",
            " [230770.  216837. ]\n",
            " [ 97400.  110500. ]\n",
            " [200107.8 175900. ]\n",
            " [424890.4 538000. ]\n",
            " [346270.  160000. ]\n",
            " [211840.  172500. ]\n",
            " [132460.  108000. ]\n",
            " [135007.5 131500. ]\n",
            " [ 88780.  106250. ]\n",
            " [444137.8 385000. ]\n",
            " [344484.4 370878. ]\n",
            " [302109.2 345000. ]\n",
            " [ 71550.   68500. ]\n",
            " [193600.  250000. ]\n",
            " [242845.6 245350. ]\n",
            " [132700.  125000. ]\n",
            " [206849.  234000. ]\n",
            " [144286.8 145000. ]\n",
            " [166440.  181000. ]\n",
            " [115900.  104000. ]\n",
            " [220117.8 233000. ]\n",
            " [222938.7 164000. ]\n",
            " [169798.7 219500. ]\n",
            " [228095.  195000. ]\n",
            " [136508.4 108000. ]\n",
            " [135990.  149900. ]\n",
            " [408016.1 315000. ]\n",
            " [165095.  177500. ]\n",
            " [153250.  140000. ]\n",
            " [204397.  193879. ]\n",
            " [218260.  137900. ]\n",
            " [117845.  118000. ]\n",
            " [265890.  324000. ]\n",
            " [518288.4 555000. ]\n",
            " [181680.  136000. ]\n",
            " [ 76470.   82500. ]\n",
            " [ 79400.  101000. ]]\n"
          ]
        }
      ]
    },
    {
      "cell_type": "code",
      "source": [
        "from sklearn.metrics import r2_score\n",
        "r2_score(y_pred,y_test)"
      ],
      "metadata": {
        "colab": {
          "base_uri": "https://localhost:8080/"
        },
        "id": "NTnG99yW5Xa9",
        "outputId": "c7429311-14b3-4d17-92d3-90e717d610e4"
      },
      "execution_count": null,
      "outputs": [
        {
          "output_type": "execute_result",
          "data": {
            "text/plain": [
              "0.8257780287229617"
            ]
          },
          "metadata": {},
          "execution_count": 28
        }
      ]
    },
    {
      "cell_type": "markdown",
      "source": [
        "## Applying k-Fold Cross Validation"
      ],
      "metadata": {
        "id": "zTZXs87cF3pt"
      }
    },
    {
      "cell_type": "code",
      "source": [
        "from sklearn.model_selection import cross_val_score\n",
        "accuracies = cross_val_score(estimator = regressor, X = X_train, y = y_train, cv = 10)\n",
        "print(\"Accuracy: {:.2f} %\".format(accuracies.mean()*100))\n",
        "print(\"Standard Deviation: {:.2f} %\".format(accuracies.std()*100))"
      ],
      "metadata": {
        "colab": {
          "base_uri": "https://localhost:8080/"
        },
        "id": "NX4JqMhlFi4o",
        "outputId": "19fb4a8c-2cf7-477f-d486-5135e175d563"
      },
      "execution_count": null,
      "outputs": [
        {
          "output_type": "stream",
          "name": "stdout",
          "text": [
            "Accuracy: 83.83 %\n",
            "Standard Deviation: 5.32 %\n"
          ]
        }
      ]
    },
    {
      "cell_type": "markdown",
      "source": [
        "Predicted output on test file data"
      ],
      "metadata": {
        "id": "uInw1mcTJ5F5"
      }
    },
    {
      "cell_type": "code",
      "source": [
        "entry_y_pred = regressor.predict(testset)\n",
        "entry_y_pred\n",
        "#np.set_printoptions(precision=2)\n",
        "#print((entry_y_pred.reshape(len(entry_y_pred),1),1))"
      ],
      "metadata": {
        "colab": {
          "base_uri": "https://localhost:8080/"
        },
        "id": "_HaNmT1JJ9s5",
        "outputId": "03acc6f4-51e0-4e19-f6aa-1e10442d6915"
      },
      "execution_count": null,
      "outputs": [
        {
          "output_type": "stream",
          "name": "stderr",
          "text": [
            "/usr/local/lib/python3.7/dist-packages/sklearn/base.py:444: UserWarning: X has feature names, but RandomForestRegressor was fitted without feature names\n",
            "  f\"X has feature names, but {self.__class__.__name__} was fitted without\"\n"
          ]
        },
        {
          "output_type": "execute_result",
          "data": {
            "text/plain": [
              "array([107420. , 148650. , 210902.5, ..., 176320. ,  76169.3, 229001.5])"
            ]
          },
          "metadata": {},
          "execution_count": 30
        }
      ]
    },
    {
      "cell_type": "markdown",
      "source": [
        "Prepare submission file"
      ],
      "metadata": {
        "id": "y5qHHEWbLaPg"
      }
    },
    {
      "cell_type": "code",
      "source": [
        "len(entry_y_pred)"
      ],
      "metadata": {
        "colab": {
          "base_uri": "https://localhost:8080/"
        },
        "id": "vM5SmM8StwZJ",
        "outputId": "cb3ffb2d-89c6-40b8-ec2a-0ec4d7e5ce34"
      },
      "execution_count": null,
      "outputs": [
        {
          "output_type": "execute_result",
          "data": {
            "text/plain": [
              "1459"
            ]
          },
          "metadata": {},
          "execution_count": 31
        }
      ]
    },
    {
      "cell_type": "code",
      "source": [
        "Id =list(range(1461, 2920))\n",
        "len(Id)"
      ],
      "metadata": {
        "colab": {
          "base_uri": "https://localhost:8080/"
        },
        "id": "iz4OtilLJ8Eh",
        "outputId": "bb05e3af-d085-4d03-d482-32a9f47ee7f9"
      },
      "execution_count": null,
      "outputs": [
        {
          "output_type": "execute_result",
          "data": {
            "text/plain": [
              "1459"
            ]
          },
          "metadata": {},
          "execution_count": 34
        }
      ]
    },
    {
      "cell_type": "code",
      "source": [
        "SalePrice = entry_y_pred"
      ],
      "metadata": {
        "id": "BpDPA7JLL9XE"
      },
      "execution_count": null,
      "outputs": []
    },
    {
      "cell_type": "code",
      "source": [
        "ef = pd.DataFrame(list(zip(Id,SalePrice)), columns=['Id', 'SalePrice'])\n",
        "ef"
      ],
      "metadata": {
        "colab": {
          "base_uri": "https://localhost:8080/",
          "height": 424
        },
        "id": "dOglFDJdLeKG",
        "outputId": "94f750c1-5633-471e-f4b0-9a6627e6d7e2"
      },
      "execution_count": null,
      "outputs": [
        {
          "output_type": "execute_result",
          "data": {
            "text/plain": [
              "        Id  SalePrice\n",
              "0     1461   107420.0\n",
              "1     1462   148650.0\n",
              "2     1463   210902.5\n",
              "3     1464   175483.2\n",
              "4     1465   173779.5\n",
              "...    ...        ...\n",
              "1454  2915    75831.1\n",
              "1455  2916    89451.1\n",
              "1456  2917   176320.0\n",
              "1457  2918    76169.3\n",
              "1458  2919   229001.5\n",
              "\n",
              "[1459 rows x 2 columns]"
            ],
            "text/html": [
              "\n",
              "  <div id=\"df-2bae4c2f-ae6d-49f9-9f96-d12c68e5665e\">\n",
              "    <div class=\"colab-df-container\">\n",
              "      <div>\n",
              "<style scoped>\n",
              "    .dataframe tbody tr th:only-of-type {\n",
              "        vertical-align: middle;\n",
              "    }\n",
              "\n",
              "    .dataframe tbody tr th {\n",
              "        vertical-align: top;\n",
              "    }\n",
              "\n",
              "    .dataframe thead th {\n",
              "        text-align: right;\n",
              "    }\n",
              "</style>\n",
              "<table border=\"1\" class=\"dataframe\">\n",
              "  <thead>\n",
              "    <tr style=\"text-align: right;\">\n",
              "      <th></th>\n",
              "      <th>Id</th>\n",
              "      <th>SalePrice</th>\n",
              "    </tr>\n",
              "  </thead>\n",
              "  <tbody>\n",
              "    <tr>\n",
              "      <th>0</th>\n",
              "      <td>1461</td>\n",
              "      <td>107420.0</td>\n",
              "    </tr>\n",
              "    <tr>\n",
              "      <th>1</th>\n",
              "      <td>1462</td>\n",
              "      <td>148650.0</td>\n",
              "    </tr>\n",
              "    <tr>\n",
              "      <th>2</th>\n",
              "      <td>1463</td>\n",
              "      <td>210902.5</td>\n",
              "    </tr>\n",
              "    <tr>\n",
              "      <th>3</th>\n",
              "      <td>1464</td>\n",
              "      <td>175483.2</td>\n",
              "    </tr>\n",
              "    <tr>\n",
              "      <th>4</th>\n",
              "      <td>1465</td>\n",
              "      <td>173779.5</td>\n",
              "    </tr>\n",
              "    <tr>\n",
              "      <th>...</th>\n",
              "      <td>...</td>\n",
              "      <td>...</td>\n",
              "    </tr>\n",
              "    <tr>\n",
              "      <th>1454</th>\n",
              "      <td>2915</td>\n",
              "      <td>75831.1</td>\n",
              "    </tr>\n",
              "    <tr>\n",
              "      <th>1455</th>\n",
              "      <td>2916</td>\n",
              "      <td>89451.1</td>\n",
              "    </tr>\n",
              "    <tr>\n",
              "      <th>1456</th>\n",
              "      <td>2917</td>\n",
              "      <td>176320.0</td>\n",
              "    </tr>\n",
              "    <tr>\n",
              "      <th>1457</th>\n",
              "      <td>2918</td>\n",
              "      <td>76169.3</td>\n",
              "    </tr>\n",
              "    <tr>\n",
              "      <th>1458</th>\n",
              "      <td>2919</td>\n",
              "      <td>229001.5</td>\n",
              "    </tr>\n",
              "  </tbody>\n",
              "</table>\n",
              "<p>1459 rows × 2 columns</p>\n",
              "</div>\n",
              "      <button class=\"colab-df-convert\" onclick=\"convertToInteractive('df-2bae4c2f-ae6d-49f9-9f96-d12c68e5665e')\"\n",
              "              title=\"Convert this dataframe to an interactive table.\"\n",
              "              style=\"display:none;\">\n",
              "        \n",
              "  <svg xmlns=\"http://www.w3.org/2000/svg\" height=\"24px\"viewBox=\"0 0 24 24\"\n",
              "       width=\"24px\">\n",
              "    <path d=\"M0 0h24v24H0V0z\" fill=\"none\"/>\n",
              "    <path d=\"M18.56 5.44l.94 2.06.94-2.06 2.06-.94-2.06-.94-.94-2.06-.94 2.06-2.06.94zm-11 1L8.5 8.5l.94-2.06 2.06-.94-2.06-.94L8.5 2.5l-.94 2.06-2.06.94zm10 10l.94 2.06.94-2.06 2.06-.94-2.06-.94-.94-2.06-.94 2.06-2.06.94z\"/><path d=\"M17.41 7.96l-1.37-1.37c-.4-.4-.92-.59-1.43-.59-.52 0-1.04.2-1.43.59L10.3 9.45l-7.72 7.72c-.78.78-.78 2.05 0 2.83L4 21.41c.39.39.9.59 1.41.59.51 0 1.02-.2 1.41-.59l7.78-7.78 2.81-2.81c.8-.78.8-2.07 0-2.86zM5.41 20L4 18.59l7.72-7.72 1.47 1.35L5.41 20z\"/>\n",
              "  </svg>\n",
              "      </button>\n",
              "      \n",
              "  <style>\n",
              "    .colab-df-container {\n",
              "      display:flex;\n",
              "      flex-wrap:wrap;\n",
              "      gap: 12px;\n",
              "    }\n",
              "\n",
              "    .colab-df-convert {\n",
              "      background-color: #E8F0FE;\n",
              "      border: none;\n",
              "      border-radius: 50%;\n",
              "      cursor: pointer;\n",
              "      display: none;\n",
              "      fill: #1967D2;\n",
              "      height: 32px;\n",
              "      padding: 0 0 0 0;\n",
              "      width: 32px;\n",
              "    }\n",
              "\n",
              "    .colab-df-convert:hover {\n",
              "      background-color: #E2EBFA;\n",
              "      box-shadow: 0px 1px 2px rgba(60, 64, 67, 0.3), 0px 1px 3px 1px rgba(60, 64, 67, 0.15);\n",
              "      fill: #174EA6;\n",
              "    }\n",
              "\n",
              "    [theme=dark] .colab-df-convert {\n",
              "      background-color: #3B4455;\n",
              "      fill: #D2E3FC;\n",
              "    }\n",
              "\n",
              "    [theme=dark] .colab-df-convert:hover {\n",
              "      background-color: #434B5C;\n",
              "      box-shadow: 0px 1px 3px 1px rgba(0, 0, 0, 0.15);\n",
              "      filter: drop-shadow(0px 1px 2px rgba(0, 0, 0, 0.3));\n",
              "      fill: #FFFFFF;\n",
              "    }\n",
              "  </style>\n",
              "\n",
              "      <script>\n",
              "        const buttonEl =\n",
              "          document.querySelector('#df-2bae4c2f-ae6d-49f9-9f96-d12c68e5665e button.colab-df-convert');\n",
              "        buttonEl.style.display =\n",
              "          google.colab.kernel.accessAllowed ? 'block' : 'none';\n",
              "\n",
              "        async function convertToInteractive(key) {\n",
              "          const element = document.querySelector('#df-2bae4c2f-ae6d-49f9-9f96-d12c68e5665e');\n",
              "          const dataTable =\n",
              "            await google.colab.kernel.invokeFunction('convertToInteractive',\n",
              "                                                     [key], {});\n",
              "          if (!dataTable) return;\n",
              "\n",
              "          const docLinkHtml = 'Like what you see? Visit the ' +\n",
              "            '<a target=\"_blank\" href=https://colab.research.google.com/notebooks/data_table.ipynb>data table notebook</a>'\n",
              "            + ' to learn more about interactive tables.';\n",
              "          element.innerHTML = '';\n",
              "          dataTable['output_type'] = 'display_data';\n",
              "          await google.colab.output.renderOutput(dataTable, element);\n",
              "          const docLink = document.createElement('div');\n",
              "          docLink.innerHTML = docLinkHtml;\n",
              "          element.appendChild(docLink);\n",
              "        }\n",
              "      </script>\n",
              "    </div>\n",
              "  </div>\n",
              "  "
            ]
          },
          "metadata": {},
          "execution_count": 39
        }
      ]
    },
    {
      "cell_type": "code",
      "source": [
        "\n",
        "\n",
        "ef.to_csv('house_price_submission.csv', index=False)"
      ],
      "metadata": {
        "id": "ofx5EemmNXFw"
      },
      "execution_count": null,
      "outputs": []
    },
    {
      "cell_type": "markdown",
      "source": [
        "**Conclusion:**\n",
        "\n",
        "The test file did not have the same number of features as the train file. So I had to ensure that all the features that were in the test file were inluded in the train model, and also remove those features in the train file that were not in the test file.\n",
        "\n",
        "**Improvements:** \n",
        "\n",
        "1. More time on identifying missing values instead of just fillna = 0. Maybe use mean for numerical.\n",
        "2. Identifying and removing outliers.\n",
        "3. Use Ridge , Lasso, Elastic Net on Linear regression models to reduce overfitting."
      ],
      "metadata": {
        "id": "DL2tBkmts4Eg"
      }
    }
  ]
}